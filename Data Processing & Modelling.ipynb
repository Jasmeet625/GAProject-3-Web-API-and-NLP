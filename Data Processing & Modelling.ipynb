{
 "cells": [
  {
   "cell_type": "code",
   "execution_count": 1,
   "id": "77e1bd58",
   "metadata": {},
   "outputs": [],
   "source": [
    "# Imports\n",
    "import pandas as pd\n",
    "import numpy as np\n",
    "import seaborn as sns\n",
    "import matplotlib.pyplot as plt\n",
    "\n",
    "# Webscrapping Imports\n",
    "from bs4 import BeautifulSoup       \n",
    "import regex as re\n",
    "\n",
    "# NLP Imports\n",
    "from nltk.stem import WordNetLemmatizer\n",
    "from nltk.tokenize import RegexpTokenizer\n",
    "from nltk.stem.porter import PorterStemmer\n",
    "from nltk.corpus import stopwords\n",
    "import nltk\n",
    "\n",
    "\n",
    "# Modelling Imports\n",
    "from sklearn.feature_extraction.text import CountVectorizer, TfidfVectorizer\n",
    "from sklearn.model_selection import train_test_split, GridSearchCV,cross_val_score\n",
    "from sklearn.linear_model import LogisticRegression\n",
    "from sklearn.pipeline import Pipeline\n",
    "from sklearn.feature_extraction import text\n",
    "from sklearn.metrics import confusion_matrix\n",
    "from sklearn.metrics import roc_auc_score\n",
    "\n",
    "# Ignore warnings\n",
    "import warnings\n",
    "def ignore_warn(*args,**kwargs):\n",
    "    pass\n",
    "warnings.warn=ignore_warn\n",
    "\n",
    "# Stylistic Choice:\n",
    "plt.style.use('bmh')\n",
    "sns.set_palette(\"RdBu_r\")"
   ]
  },
  {
   "cell_type": "markdown",
   "id": "4f5da44c",
   "metadata": {},
   "source": [
    "### Import Cleaned Data"
   ]
  },
  {
   "cell_type": "code",
   "execution_count": 8,
   "id": "0f50a395",
   "metadata": {},
   "outputs": [],
   "source": [
    "blogdf= pd.read_csv(\"./blogging.csv\")\n",
    "writedf= pd.read_csv(\"./write.csv\")"
   ]
  },
  {
   "cell_type": "code",
   "execution_count": 12,
   "id": "f3e2bfd4",
   "metadata": {},
   "outputs": [
    {
     "name": "stdout",
     "output_type": "stream",
     "text": [
      "Blogging dataframe Shape: (510, 108)\n",
      "Writing dataframe DF Shape: (686, 115)\n"
     ]
    }
   ],
   "source": [
    "print(f'Blogging dataframe Shape: {blogdf.shape}')\n",
    "print(f'Writing dataframe DF Shape: {writedf.shape}')"
   ]
  },
  {
   "cell_type": "markdown",
   "id": "6ddc1dfe",
   "metadata": {},
   "source": [
    "#### Labelling Data\n",
    "Map 'blog' data as 1 and 'write' data as 0 once again \n"
   ]
  },
  {
   "cell_type": "code",
   "execution_count": 14,
   "id": "505e2ead",
   "metadata": {},
   "outputs": [
    {
     "data": {
      "text/plain": [
       "(510, 109)"
      ]
     },
     "execution_count": 14,
     "metadata": {},
     "output_type": "execute_result"
    }
   ],
   "source": [
    "blogdf['label'] = 1\n",
    "blogdf.shape"
   ]
  },
  {
   "cell_type": "code",
   "execution_count": 15,
   "id": "357213a4",
   "metadata": {},
   "outputs": [
    {
     "data": {
      "text/plain": [
       "(686, 116)"
      ]
     },
     "execution_count": 15,
     "metadata": {},
     "output_type": "execute_result"
    }
   ],
   "source": [
    "writedf['label'] = 0\n",
    "writedf.shape"
   ]
  },
  {
   "cell_type": "code",
   "execution_count": 17,
   "id": "9ed43f87",
   "metadata": {},
   "outputs": [
    {
     "data": {
      "text/plain": [
       "(1196, 116)"
      ]
     },
     "execution_count": 17,
     "metadata": {},
     "output_type": "execute_result"
    }
   ],
   "source": [
    "df = pd.concat([blogdf, writedf], axis=0)\n",
    "df.shape"
   ]
  },
  {
   "cell_type": "code",
   "execution_count": 18,
   "id": "bde950a4",
   "metadata": {},
   "outputs": [
    {
     "data": {
      "text/plain": [
       "0    686\n",
       "1    510\n",
       "Name: label, dtype: int64"
      ]
     },
     "execution_count": 18,
     "metadata": {},
     "output_type": "execute_result"
    }
   ],
   "source": [
    "df['label'].value_counts()"
   ]
  },
  {
   "cell_type": "code",
   "execution_count": 19,
   "id": "f77ef62e",
   "metadata": {},
   "outputs": [
    {
     "data": {
      "text/html": [
       "<div>\n",
       "<style scoped>\n",
       "    .dataframe tbody tr th:only-of-type {\n",
       "        vertical-align: middle;\n",
       "    }\n",
       "\n",
       "    .dataframe tbody tr th {\n",
       "        vertical-align: top;\n",
       "    }\n",
       "\n",
       "    .dataframe thead th {\n",
       "        text-align: right;\n",
       "    }\n",
       "</style>\n",
       "<table border=\"1\" class=\"dataframe\">\n",
       "  <thead>\n",
       "    <tr style=\"text-align: right;\">\n",
       "      <th></th>\n",
       "      <th>Unnamed: 0</th>\n",
       "      <th>approved_at_utc</th>\n",
       "      <th>subreddit</th>\n",
       "      <th>selftext</th>\n",
       "      <th>author_fullname</th>\n",
       "      <th>saved</th>\n",
       "      <th>mod_reason_title</th>\n",
       "      <th>gilded</th>\n",
       "      <th>clicked</th>\n",
       "      <th>title</th>\n",
       "      <th>...</th>\n",
       "      <th>call_to_action</th>\n",
       "      <th>author_cakeday</th>\n",
       "      <th>label</th>\n",
       "      <th>thumbnail_height</th>\n",
       "      <th>thumbnail_width</th>\n",
       "      <th>post_hint</th>\n",
       "      <th>preview</th>\n",
       "      <th>crosspost_parent_list</th>\n",
       "      <th>url_overridden_by_dest</th>\n",
       "      <th>crosspost_parent</th>\n",
       "    </tr>\n",
       "  </thead>\n",
       "  <tbody>\n",
       "    <tr>\n",
       "      <th>0</th>\n",
       "      <td>0</td>\n",
       "      <td>NaN</td>\n",
       "      <td>Blogging</td>\n",
       "      <td>All feedback requests should be posted here. F...</td>\n",
       "      <td>t2_b65g2</td>\n",
       "      <td>False</td>\n",
       "      <td>NaN</td>\n",
       "      <td>0</td>\n",
       "      <td>False</td>\n",
       "      <td>March Feedback Thread - Post your feedback req...</td>\n",
       "      <td>...</td>\n",
       "      <td>NaN</td>\n",
       "      <td>NaN</td>\n",
       "      <td>1</td>\n",
       "      <td>NaN</td>\n",
       "      <td>NaN</td>\n",
       "      <td>NaN</td>\n",
       "      <td>NaN</td>\n",
       "      <td>NaN</td>\n",
       "      <td>NaN</td>\n",
       "      <td>NaN</td>\n",
       "    </tr>\n",
       "    <tr>\n",
       "      <th>1</th>\n",
       "      <td>1</td>\n",
       "      <td>NaN</td>\n",
       "      <td>Blogging</td>\n",
       "      <td>Hello bloggers\\n\\nIf  you're a blogger with si...</td>\n",
       "      <td>t2_b65g2</td>\n",
       "      <td>False</td>\n",
       "      <td>NaN</td>\n",
       "      <td>0</td>\n",
       "      <td>False</td>\n",
       "      <td>Attention Bloggers! Ask Your Questions In This...</td>\n",
       "      <td>...</td>\n",
       "      <td>NaN</td>\n",
       "      <td>NaN</td>\n",
       "      <td>1</td>\n",
       "      <td>NaN</td>\n",
       "      <td>NaN</td>\n",
       "      <td>NaN</td>\n",
       "      <td>NaN</td>\n",
       "      <td>NaN</td>\n",
       "      <td>NaN</td>\n",
       "      <td>NaN</td>\n",
       "    </tr>\n",
       "    <tr>\n",
       "      <th>2</th>\n",
       "      <td>2</td>\n",
       "      <td>NaN</td>\n",
       "      <td>Blogging</td>\n",
       "      <td>Which do you use and why? Or do you use both? ...</td>\n",
       "      <td>t2_bv46v1qp</td>\n",
       "      <td>False</td>\n",
       "      <td>NaN</td>\n",
       "      <td>0</td>\n",
       "      <td>False</td>\n",
       "      <td>UA vs GA4? Google analytics</td>\n",
       "      <td>...</td>\n",
       "      <td>NaN</td>\n",
       "      <td>NaN</td>\n",
       "      <td>1</td>\n",
       "      <td>NaN</td>\n",
       "      <td>NaN</td>\n",
       "      <td>NaN</td>\n",
       "      <td>NaN</td>\n",
       "      <td>NaN</td>\n",
       "      <td>NaN</td>\n",
       "      <td>NaN</td>\n",
       "    </tr>\n",
       "    <tr>\n",
       "      <th>3</th>\n",
       "      <td>3</td>\n",
       "      <td>NaN</td>\n",
       "      <td>Blogging</td>\n",
       "      <td>I was doing really good at keeping up with my ...</td>\n",
       "      <td>t2_89cropsa</td>\n",
       "      <td>False</td>\n",
       "      <td>NaN</td>\n",
       "      <td>0</td>\n",
       "      <td>False</td>\n",
       "      <td>Help! I've fallen off the wagon.</td>\n",
       "      <td>...</td>\n",
       "      <td>NaN</td>\n",
       "      <td>NaN</td>\n",
       "      <td>1</td>\n",
       "      <td>NaN</td>\n",
       "      <td>NaN</td>\n",
       "      <td>NaN</td>\n",
       "      <td>NaN</td>\n",
       "      <td>NaN</td>\n",
       "      <td>NaN</td>\n",
       "      <td>NaN</td>\n",
       "    </tr>\n",
       "    <tr>\n",
       "      <th>4</th>\n",
       "      <td>4</td>\n",
       "      <td>NaN</td>\n",
       "      <td>Blogging</td>\n",
       "      <td>My issue is I don't know how to create a page ...</td>\n",
       "      <td>t2_ia3dyt94</td>\n",
       "      <td>False</td>\n",
       "      <td>NaN</td>\n",
       "      <td>0</td>\n",
       "      <td>False</td>\n",
       "      <td>In Blogger/Blogspot, I want to add a tab \"Home...</td>\n",
       "      <td>...</td>\n",
       "      <td>NaN</td>\n",
       "      <td>NaN</td>\n",
       "      <td>1</td>\n",
       "      <td>NaN</td>\n",
       "      <td>NaN</td>\n",
       "      <td>NaN</td>\n",
       "      <td>NaN</td>\n",
       "      <td>NaN</td>\n",
       "      <td>NaN</td>\n",
       "      <td>NaN</td>\n",
       "    </tr>\n",
       "  </tbody>\n",
       "</table>\n",
       "<p>5 rows × 116 columns</p>\n",
       "</div>"
      ],
      "text/plain": [
       "   Unnamed: 0  approved_at_utc subreddit  \\\n",
       "0           0              NaN  Blogging   \n",
       "1           1              NaN  Blogging   \n",
       "2           2              NaN  Blogging   \n",
       "3           3              NaN  Blogging   \n",
       "4           4              NaN  Blogging   \n",
       "\n",
       "                                            selftext author_fullname  saved  \\\n",
       "0  All feedback requests should be posted here. F...        t2_b65g2  False   \n",
       "1  Hello bloggers\\n\\nIf  you're a blogger with si...        t2_b65g2  False   \n",
       "2  Which do you use and why? Or do you use both? ...     t2_bv46v1qp  False   \n",
       "3  I was doing really good at keeping up with my ...     t2_89cropsa  False   \n",
       "4  My issue is I don't know how to create a page ...     t2_ia3dyt94  False   \n",
       "\n",
       "   mod_reason_title  gilded  clicked  \\\n",
       "0               NaN       0    False   \n",
       "1               NaN       0    False   \n",
       "2               NaN       0    False   \n",
       "3               NaN       0    False   \n",
       "4               NaN       0    False   \n",
       "\n",
       "                                               title  ... call_to_action  \\\n",
       "0  March Feedback Thread - Post your feedback req...  ...            NaN   \n",
       "1  Attention Bloggers! Ask Your Questions In This...  ...            NaN   \n",
       "2                        UA vs GA4? Google analytics  ...            NaN   \n",
       "3                   Help! I've fallen off the wagon.  ...            NaN   \n",
       "4  In Blogger/Blogspot, I want to add a tab \"Home...  ...            NaN   \n",
       "\n",
       "  author_cakeday  label  thumbnail_height thumbnail_width  post_hint  preview  \\\n",
       "0            NaN      1               NaN             NaN        NaN      NaN   \n",
       "1            NaN      1               NaN             NaN        NaN      NaN   \n",
       "2            NaN      1               NaN             NaN        NaN      NaN   \n",
       "3            NaN      1               NaN             NaN        NaN      NaN   \n",
       "4            NaN      1               NaN             NaN        NaN      NaN   \n",
       "\n",
       "   crosspost_parent_list url_overridden_by_dest  crosspost_parent  \n",
       "0                    NaN                    NaN               NaN  \n",
       "1                    NaN                    NaN               NaN  \n",
       "2                    NaN                    NaN               NaN  \n",
       "3                    NaN                    NaN               NaN  \n",
       "4                    NaN                    NaN               NaN  \n",
       "\n",
       "[5 rows x 116 columns]"
      ]
     },
     "execution_count": 19,
     "metadata": {},
     "output_type": "execute_result"
    }
   ],
   "source": [
    "df.head()"
   ]
  },
  {
   "cell_type": "code",
   "execution_count": 20,
   "id": "51736694",
   "metadata": {},
   "outputs": [
    {
     "data": {
      "text/plain": [
       "0"
      ]
     },
     "execution_count": 20,
     "metadata": {},
     "output_type": "execute_result"
    }
   ],
   "source": [
    "df.duplicated().sum()"
   ]
  },
  {
   "cell_type": "code",
   "execution_count": 21,
   "id": "dadbc007",
   "metadata": {},
   "outputs": [
    {
     "data": {
      "text/plain": [
       "7"
      ]
     },
     "execution_count": 21,
     "metadata": {},
     "output_type": "execute_result"
    }
   ],
   "source": [
    "df['selftext'].isnull().sum()"
   ]
  },
  {
   "cell_type": "code",
   "execution_count": 22,
   "id": "29587567",
   "metadata": {},
   "outputs": [],
   "source": [
    "df.dropna(subset=['selftext'],inplace=True)"
   ]
  },
  {
   "cell_type": "code",
   "execution_count": 23,
   "id": "bbbf02b9",
   "metadata": {},
   "outputs": [
    {
     "data": {
      "text/plain": [
       "0"
      ]
     },
     "execution_count": 23,
     "metadata": {},
     "output_type": "execute_result"
    }
   ],
   "source": [
    "df['selftext'].isnull().sum()"
   ]
  },
  {
   "cell_type": "code",
   "execution_count": 24,
   "id": "281a1107",
   "metadata": {},
   "outputs": [
    {
     "data": {
      "text/plain": [
       "0"
      ]
     },
     "execution_count": 24,
     "metadata": {},
     "output_type": "execute_result"
    }
   ],
   "source": [
    "df['title'].isnull().sum()"
   ]
  },
  {
   "cell_type": "markdown",
   "id": "f6262991",
   "metadata": {},
   "source": [
    "#### Modelling "
   ]
  },
  {
   "cell_type": "code",
   "execution_count": 25,
   "id": "d7a0f78b",
   "metadata": {},
   "outputs": [],
   "source": [
    "vectorizer = CountVectorizer(max_features = 500,\n",
    "                            min_df=2,\n",
    "                            max_df=0.9) "
   ]
  },
  {
   "cell_type": "code",
   "execution_count": 26,
   "id": "71519861",
   "metadata": {},
   "outputs": [],
   "source": [
    "X = df[['selftext']]\n",
    "y = df['label']"
   ]
  },
  {
   "cell_type": "code",
   "execution_count": 27,
   "id": "b21624e5",
   "metadata": {},
   "outputs": [],
   "source": [
    "X_train, X_test, y_train, y_test = train_test_split(X,\n",
    "                                                    y,\n",
    "                                                    test_size=0.2,\n",
    "                                                    stratify=y,\n",
    "                                                    random_state=42)"
   ]
  },
  {
   "cell_type": "code",
   "execution_count": 28,
   "id": "05c6be7f",
   "metadata": {},
   "outputs": [
    {
     "data": {
      "text/plain": [
       "(951, 1)"
      ]
     },
     "execution_count": 28,
     "metadata": {},
     "output_type": "execute_result"
    }
   ],
   "source": [
    "X_train.shape"
   ]
  },
  {
   "cell_type": "code",
   "execution_count": 29,
   "id": "57c9c1ec",
   "metadata": {},
   "outputs": [
    {
     "data": {
      "text/plain": [
       "(238, 1)"
      ]
     },
     "execution_count": 29,
     "metadata": {},
     "output_type": "execute_result"
    }
   ],
   "source": [
    "X_test.shape"
   ]
  },
  {
   "cell_type": "markdown",
   "id": "3bf391fd",
   "metadata": {},
   "source": [
    "### Preprocessing Text Data\n",
    "\n",
    "Cleaning (i.e. removing HTML)\n",
    "\n",
    "Lemmatizing\n",
    "\n",
    "Stemming"
   ]
  },
  {
   "cell_type": "code",
   "execution_count": 30,
   "id": "702b8473",
   "metadata": {},
   "outputs": [
    {
     "data": {
      "text/plain": [
       "368    I'm about to finish my undergrad, majoring in Animal Behavior with a minor in Writing. I've loved writing ever since I was little, and I've put a lot of effort into improving my writing. My passion is fiction, but since I went with a BS, I've been writing literature reviews, science writing, and research papers. They've really pushed my writing skills and I've loved the challenge.\\n\\n&amp;#x200B;\\n\\nMy major works through the College of Agriculture. This department is...not known for writing skills. The professors are not great at enforcing a higher standard of writing. I'm working on a literature review with two other people and even though this is a 400-level class, I feel like I'm writing with 15-year olds. They're great students and I respect them, but I have to restrain myself from shredding their sections while I edit. The classes in the writing department have spoiled me. I just hate presenting things that I'm not proud of. Has anyone else had to do things like this? I just want to commiserate a little with people that may have the same experience.\n",
       "Name: selftext, dtype: object"
      ]
     },
     "execution_count": 30,
     "metadata": {},
     "output_type": "execute_result"
    }
   ],
   "source": [
    "pd.set_option('display.max_colwidth', -1) \n",
    "X_train['selftext'].head(1)"
   ]
  },
  {
   "cell_type": "code",
   "execution_count": 31,
   "id": "8f7965ce",
   "metadata": {},
   "outputs": [],
   "source": [
    "def review_to_words(raw_review):\n",
    "    # Function to convert a raw review to a string of words\n",
    "    # The input is a single string (a raw movie review), and \n",
    "    # the output is a single string (a preprocessed movie review)\n",
    "    \n",
    "    # 1. Remove HTML.\n",
    "    review_text = BeautifulSoup(raw_review).get_text()\n",
    "    \n",
    "    # 2. Remove non-letters.\n",
    "    letters_only = re.sub(\"[^a-zA-Z]\", \" \", review_text)\n",
    "    \n",
    "    # 3. Convert to lower case, split into individual words.\n",
    "    words = letters_only.lower().split()    \n",
    "    \n",
    "    # 4. Instantiate stemmer.\n",
    "    p_stemmer = PorterStemmer()\n",
    "    stemmed_words = [p_stemmer.stem(i) for i in words]\n",
    "\n",
    "    \n",
    "    # 5. Remove stopwords.\n",
    "    stops = set(text.ENGLISH_STOP_WORDS)\n",
    "    newStopWords = ['like','write','blog','blogger','thi','would','wa','wordpress','www','http','ve','just']\n",
    "    stops.update(newStopWords)\n",
    "    meaningful_words = [w for w in stemmed_words if not w in stops]\n",
    "    \n",
    "    # 6. Join the words back into one string separated by space, and return the result.\n",
    "\n",
    "    return(\" \".join(meaningful_words))"
   ]
  },
  {
   "cell_type": "code",
   "execution_count": 32,
   "id": "eb7944aa",
   "metadata": {},
   "outputs": [
    {
     "data": {
      "text/plain": [
       "327"
      ]
     },
     "execution_count": 32,
     "metadata": {},
     "output_type": "execute_result"
    }
   ],
   "source": [
    "newStopWords = ['like','write','blog','blogger','thi','would','wa','wordpress','www','ve']\n",
    "stops = text.ENGLISH_STOP_WORDS.union(newStopWords)\n",
    "len(stops)"
   ]
  },
  {
   "cell_type": "code",
   "execution_count": 33,
   "id": "bdd2d7f0",
   "metadata": {},
   "outputs": [
    {
     "data": {
      "text/plain": [
       "frozenset({'a',\n",
       "           'about',\n",
       "           'above',\n",
       "           'across',\n",
       "           'after',\n",
       "           'afterwards',\n",
       "           'again',\n",
       "           'against',\n",
       "           'all',\n",
       "           'almost',\n",
       "           'alone',\n",
       "           'along',\n",
       "           'already',\n",
       "           'also',\n",
       "           'although',\n",
       "           'always',\n",
       "           'am',\n",
       "           'among',\n",
       "           'amongst',\n",
       "           'amoungst',\n",
       "           'amount',\n",
       "           'an',\n",
       "           'and',\n",
       "           'another',\n",
       "           'any',\n",
       "           'anyhow',\n",
       "           'anyone',\n",
       "           'anything',\n",
       "           'anyway',\n",
       "           'anywhere',\n",
       "           'are',\n",
       "           'around',\n",
       "           'as',\n",
       "           'at',\n",
       "           'back',\n",
       "           'be',\n",
       "           'became',\n",
       "           'because',\n",
       "           'become',\n",
       "           'becomes',\n",
       "           'becoming',\n",
       "           'been',\n",
       "           'before',\n",
       "           'beforehand',\n",
       "           'behind',\n",
       "           'being',\n",
       "           'below',\n",
       "           'beside',\n",
       "           'besides',\n",
       "           'between',\n",
       "           'beyond',\n",
       "           'bill',\n",
       "           'blog',\n",
       "           'blogger',\n",
       "           'both',\n",
       "           'bottom',\n",
       "           'but',\n",
       "           'by',\n",
       "           'call',\n",
       "           'can',\n",
       "           'cannot',\n",
       "           'cant',\n",
       "           'co',\n",
       "           'con',\n",
       "           'could',\n",
       "           'couldnt',\n",
       "           'cry',\n",
       "           'de',\n",
       "           'describe',\n",
       "           'detail',\n",
       "           'do',\n",
       "           'done',\n",
       "           'down',\n",
       "           'due',\n",
       "           'during',\n",
       "           'each',\n",
       "           'eg',\n",
       "           'eight',\n",
       "           'either',\n",
       "           'eleven',\n",
       "           'else',\n",
       "           'elsewhere',\n",
       "           'empty',\n",
       "           'enough',\n",
       "           'etc',\n",
       "           'even',\n",
       "           'ever',\n",
       "           'every',\n",
       "           'everyone',\n",
       "           'everything',\n",
       "           'everywhere',\n",
       "           'except',\n",
       "           'few',\n",
       "           'fifteen',\n",
       "           'fifty',\n",
       "           'fill',\n",
       "           'find',\n",
       "           'fire',\n",
       "           'first',\n",
       "           'five',\n",
       "           'for',\n",
       "           'former',\n",
       "           'formerly',\n",
       "           'forty',\n",
       "           'found',\n",
       "           'four',\n",
       "           'from',\n",
       "           'front',\n",
       "           'full',\n",
       "           'further',\n",
       "           'get',\n",
       "           'give',\n",
       "           'go',\n",
       "           'had',\n",
       "           'has',\n",
       "           'hasnt',\n",
       "           'have',\n",
       "           'he',\n",
       "           'hence',\n",
       "           'her',\n",
       "           'here',\n",
       "           'hereafter',\n",
       "           'hereby',\n",
       "           'herein',\n",
       "           'hereupon',\n",
       "           'hers',\n",
       "           'herself',\n",
       "           'him',\n",
       "           'himself',\n",
       "           'his',\n",
       "           'how',\n",
       "           'however',\n",
       "           'hundred',\n",
       "           'i',\n",
       "           'ie',\n",
       "           'if',\n",
       "           'in',\n",
       "           'inc',\n",
       "           'indeed',\n",
       "           'interest',\n",
       "           'into',\n",
       "           'is',\n",
       "           'it',\n",
       "           'its',\n",
       "           'itself',\n",
       "           'keep',\n",
       "           'last',\n",
       "           'latter',\n",
       "           'latterly',\n",
       "           'least',\n",
       "           'less',\n",
       "           'like',\n",
       "           'ltd',\n",
       "           'made',\n",
       "           'many',\n",
       "           'may',\n",
       "           'me',\n",
       "           'meanwhile',\n",
       "           'might',\n",
       "           'mill',\n",
       "           'mine',\n",
       "           'more',\n",
       "           'moreover',\n",
       "           'most',\n",
       "           'mostly',\n",
       "           'move',\n",
       "           'much',\n",
       "           'must',\n",
       "           'my',\n",
       "           'myself',\n",
       "           'name',\n",
       "           'namely',\n",
       "           'neither',\n",
       "           'never',\n",
       "           'nevertheless',\n",
       "           'next',\n",
       "           'nine',\n",
       "           'no',\n",
       "           'nobody',\n",
       "           'none',\n",
       "           'noone',\n",
       "           'nor',\n",
       "           'not',\n",
       "           'nothing',\n",
       "           'now',\n",
       "           'nowhere',\n",
       "           'of',\n",
       "           'off',\n",
       "           'often',\n",
       "           'on',\n",
       "           'once',\n",
       "           'one',\n",
       "           'only',\n",
       "           'onto',\n",
       "           'or',\n",
       "           'other',\n",
       "           'others',\n",
       "           'otherwise',\n",
       "           'our',\n",
       "           'ours',\n",
       "           'ourselves',\n",
       "           'out',\n",
       "           'over',\n",
       "           'own',\n",
       "           'part',\n",
       "           'per',\n",
       "           'perhaps',\n",
       "           'please',\n",
       "           'put',\n",
       "           'rather',\n",
       "           're',\n",
       "           'same',\n",
       "           'see',\n",
       "           'seem',\n",
       "           'seemed',\n",
       "           'seeming',\n",
       "           'seems',\n",
       "           'serious',\n",
       "           'several',\n",
       "           'she',\n",
       "           'should',\n",
       "           'show',\n",
       "           'side',\n",
       "           'since',\n",
       "           'sincere',\n",
       "           'six',\n",
       "           'sixty',\n",
       "           'so',\n",
       "           'some',\n",
       "           'somehow',\n",
       "           'someone',\n",
       "           'something',\n",
       "           'sometime',\n",
       "           'sometimes',\n",
       "           'somewhere',\n",
       "           'still',\n",
       "           'such',\n",
       "           'system',\n",
       "           'take',\n",
       "           'ten',\n",
       "           'than',\n",
       "           'that',\n",
       "           'the',\n",
       "           'their',\n",
       "           'them',\n",
       "           'themselves',\n",
       "           'then',\n",
       "           'thence',\n",
       "           'there',\n",
       "           'thereafter',\n",
       "           'thereby',\n",
       "           'therefore',\n",
       "           'therein',\n",
       "           'thereupon',\n",
       "           'these',\n",
       "           'they',\n",
       "           'thi',\n",
       "           'thick',\n",
       "           'thin',\n",
       "           'third',\n",
       "           'this',\n",
       "           'those',\n",
       "           'though',\n",
       "           'three',\n",
       "           'through',\n",
       "           'throughout',\n",
       "           'thru',\n",
       "           'thus',\n",
       "           'to',\n",
       "           'together',\n",
       "           'too',\n",
       "           'top',\n",
       "           'toward',\n",
       "           'towards',\n",
       "           'twelve',\n",
       "           'twenty',\n",
       "           'two',\n",
       "           'un',\n",
       "           'under',\n",
       "           'until',\n",
       "           'up',\n",
       "           'upon',\n",
       "           'us',\n",
       "           've',\n",
       "           'very',\n",
       "           'via',\n",
       "           'wa',\n",
       "           'was',\n",
       "           'we',\n",
       "           'well',\n",
       "           'were',\n",
       "           'what',\n",
       "           'whatever',\n",
       "           'when',\n",
       "           'whence',\n",
       "           'whenever',\n",
       "           'where',\n",
       "           'whereafter',\n",
       "           'whereas',\n",
       "           'whereby',\n",
       "           'wherein',\n",
       "           'whereupon',\n",
       "           'wherever',\n",
       "           'whether',\n",
       "           'which',\n",
       "           'while',\n",
       "           'whither',\n",
       "           'who',\n",
       "           'whoever',\n",
       "           'whole',\n",
       "           'whom',\n",
       "           'whose',\n",
       "           'why',\n",
       "           'will',\n",
       "           'with',\n",
       "           'within',\n",
       "           'without',\n",
       "           'wordpress',\n",
       "           'would',\n",
       "           'write',\n",
       "           'www',\n",
       "           'yet',\n",
       "           'you',\n",
       "           'your',\n",
       "           'yours',\n",
       "           'yourself',\n",
       "           'yourselves'})"
      ]
     },
     "execution_count": 33,
     "metadata": {},
     "output_type": "execute_result"
    }
   ],
   "source": [
    "stops"
   ]
  },
  {
   "cell_type": "code",
   "execution_count": 34,
   "id": "6533aaf5",
   "metadata": {},
   "outputs": [
    {
     "name": "stdout",
     "output_type": "stream",
     "text": [
      "There are 1189 posts.\n"
     ]
    }
   ],
   "source": [
    "# Get the number of reddit posts based on the dataframe size.\n",
    "total_posts = df.shape[0]\n",
    "print(f'There are {total_posts} posts.')"
   ]
  },
  {
   "cell_type": "code",
   "execution_count": 35,
   "id": "8062700c",
   "metadata": {},
   "outputs": [
    {
     "name": "stdout",
     "output_type": "stream",
     "text": [
      "Cleaning and parsing the training set reddit posts...\n",
      "Reddit Post 100 of 1189.\n",
      "Reddit Post 200 of 1189.\n",
      "Reddit Post 300 of 1189.\n",
      "Reddit Post 400 of 1189.\n",
      "Reddit Post 500 of 1189.\n",
      "Reddit Post 600 of 1189.\n",
      "Reddit Post 700 of 1189.\n",
      "Reddit Post 800 of 1189.\n",
      "Reddit Post 900 of 1189.\n",
      "Cleaning and parsing the testing set reddit posts...\n",
      "Reddit Post 1000 of 1189.\n",
      "Reddit Post 1100 of 1189.\n"
     ]
    }
   ],
   "source": [
    "# Initialize an empty list to hold the clean reviews.\n",
    "clean_train_posts = []\n",
    "clean_test_posts = []\n",
    "\n",
    "print(\"Cleaning and parsing the training set reddit posts...\")\n",
    "\n",
    "# Instantiate counter.\n",
    "j = 0\n",
    "\n",
    "# For every review in our training set...\n",
    "for train_post in X_train['selftext']:\n",
    "    \n",
    "    # Convert review to words, then append to clean_train_reviews.\n",
    "    clean_train_posts.append(review_to_words(train_post))\n",
    "    \n",
    "    # If the index is divisible by 100, print a message.\n",
    "    if (j + 1) % 100 == 0:\n",
    "        print(f'Reddit Post {j + 1} of {total_posts}.')\n",
    "    \n",
    "    j += 1\n",
    "\n",
    "# Let's do the same for our testing set.\n",
    "print(\"Cleaning and parsing the testing set reddit posts...\")\n",
    "\n",
    "# For every review in our testing set...\n",
    "for test_post in X_test['selftext']:\n",
    "    \n",
    "    # Convert review to words, then append to clean_train_reviews.\n",
    "    clean_test_posts.append(review_to_words(test_post))\n",
    "    \n",
    "    # If the index is divisible by 100, print a message.\n",
    "    if (j + 1) % 100 == 0:\n",
    "        print(f'Reddit Post {j + 1} of {total_posts}.')\n",
    "        \n",
    "    j += 1"
   ]
  },
  {
   "cell_type": "code",
   "execution_count": 36,
   "id": "e6ef0490",
   "metadata": {},
   "outputs": [
    {
     "data": {
      "text/plain": [
       "list"
      ]
     },
     "execution_count": 36,
     "metadata": {},
     "output_type": "execute_result"
    }
   ],
   "source": [
    "type(clean_train_posts)"
   ]
  },
  {
   "cell_type": "code",
   "execution_count": 37,
   "id": "bd856c4b",
   "metadata": {},
   "outputs": [
    {
     "data": {
      "text/plain": [
       "951"
      ]
     },
     "execution_count": 37,
     "metadata": {},
     "output_type": "execute_result"
    }
   ],
   "source": [
    "len(clean_train_posts)"
   ]
  },
  {
   "cell_type": "code",
   "execution_count": 38,
   "id": "1cb969f3",
   "metadata": {},
   "outputs": [
    {
     "data": {
      "text/plain": [
       "'m finish undergrad major anim behavior minor love sinc littl lot effort improv passion fiction sinc went bs literatur review scienc research paper realli push skill love challeng x b major work colleg agricultur depart known skill professor great enforc higher standard m work literatur review peopl level class feel m year old great student respect restrain shred section edit class depart spoil hate present thing m proud ha anyon els thing want commiser littl peopl experi'"
      ]
     },
     "execution_count": 38,
     "metadata": {},
     "output_type": "execute_result"
    }
   ],
   "source": [
    "clean_train_posts[0]"
   ]
  },
  {
   "cell_type": "markdown",
   "id": "a5b2123d",
   "metadata": {},
   "source": [
    "#### Logistic Regression Modelling\n",
    "\n",
    "Count Vectorizer"
   ]
  },
  {
   "cell_type": "code",
   "execution_count": 39,
   "id": "e9ece06a",
   "metadata": {},
   "outputs": [],
   "source": [
    "vectorizer = CountVectorizer(max_features = 10000,\n",
    "                            min_df=2,\n",
    "                            max_df=0.9,\n",
    "                            ngram_range=(1,2))     \n",
    "# Chosen ngram_range (1,2) because we are analysing selftext, which has a bulk of phrases that are key to capture."
   ]
  },
  {
   "cell_type": "code",
   "execution_count": 40,
   "id": "363586bb",
   "metadata": {},
   "outputs": [],
   "source": [
    "train_data_features_cvec = vectorizer.fit_transform(clean_train_posts)\n",
    "test_data_features_cvec = vectorizer.transform(clean_test_posts)"
   ]
  },
  {
   "cell_type": "code",
   "execution_count": 41,
   "id": "7a717f50",
   "metadata": {},
   "outputs": [
    {
     "name": "stdout",
     "output_type": "stream",
     "text": [
      "['abandon', 'abil', 'abl', 'abl help', 'abl maintain', 'abl past', 'abl publish', 'abl use', 'abnorm', 'abov', 'abov categori', 'absolut', 'abstract', 'academ', 'accept', 'accept guest', 'access', 'accid', 'accident', 'accomplish', 'accord', 'account', 'accur', 'accus', 'achiev', 'achiev lot', 'acknowledg', 'act', 'act scene', 'action', 'activ', 'activ commun', 'activewear', 'actor', 'actual', 'actual abl', 'actual bad', 'actual book', 'actual make', 'actual realli', 'actual start', 'actual stori', 'actual talk', 'actual think', 'actual wonder', 'actual work', 'ad', 'ad impress', 'ad incom', 'ad network']\n"
     ]
    }
   ],
   "source": [
    "vocab = vectorizer.get_feature_names()\n",
    "print(vocab[:50])\n",
    "\n",
    "# We observe that there are mostly single-worded text that has been selected, with only a few double-worded text."
   ]
  },
  {
   "cell_type": "code",
   "execution_count": 42,
   "id": "69d6ebc9",
   "metadata": {},
   "outputs": [
    {
     "name": "stdout",
     "output_type": "stream",
     "text": [
      "(951, 6451)\n",
      "(238, 6451)\n"
     ]
    }
   ],
   "source": [
    "print(train_data_features_cvec.shape)\n",
    "print(test_data_features_cvec.shape)"
   ]
  },
  {
   "cell_type": "code",
   "execution_count": 43,
   "id": "b8a1f745",
   "metadata": {},
   "outputs": [
    {
     "data": {
      "text/plain": [
       "0.9968454258675079"
      ]
     },
     "execution_count": 43,
     "metadata": {},
     "output_type": "execute_result"
    }
   ],
   "source": [
    "lr = LogisticRegression(solver = 'lbfgs')\n",
    "\n",
    "# Fit model to training data.\n",
    "lr.fit(train_data_features_cvec, y_train)\n",
    "\n",
    "# Evaluate model on training data.\n",
    "lr.score(train_data_features_cvec, y_train)"
   ]
  },
  {
   "cell_type": "code",
   "execution_count": 44,
   "id": "71b2650f",
   "metadata": {},
   "outputs": [
    {
     "data": {
      "text/plain": [
       "0.9159663865546218"
      ]
     },
     "execution_count": 44,
     "metadata": {},
     "output_type": "execute_result"
    }
   ],
   "source": [
    "lr.score(test_data_features_cvec, y_test) # check if there are duplicated selftext."
   ]
  },
  {
   "cell_type": "code",
   "execution_count": 45,
   "id": "76d16a0a",
   "metadata": {},
   "outputs": [
    {
     "data": {
      "text/plain": [
       "0.9306310278313585"
      ]
     },
     "execution_count": 45,
     "metadata": {},
     "output_type": "execute_result"
    }
   ],
   "source": [
    "cross_val_score(lr, train_data_features_cvec, y_train, cv=5).mean()"
   ]
  },
  {
   "cell_type": "code",
   "execution_count": 46,
   "id": "a0e01a21",
   "metadata": {},
   "outputs": [],
   "source": [
    "df_cvec = pd.DataFrame(vectorizer.fit_transform(clean_train_posts).toarray(),\n",
    "                  columns=vectorizer.get_feature_names())"
   ]
  },
  {
   "cell_type": "code",
   "execution_count": 47,
   "id": "4a6b18e8",
   "metadata": {},
   "outputs": [
    {
     "data": {
      "text/html": [
       "<div>\n",
       "<style scoped>\n",
       "    .dataframe tbody tr th:only-of-type {\n",
       "        vertical-align: middle;\n",
       "    }\n",
       "\n",
       "    .dataframe tbody tr th {\n",
       "        vertical-align: top;\n",
       "    }\n",
       "\n",
       "    .dataframe thead th {\n",
       "        text-align: right;\n",
       "    }\n",
       "</style>\n",
       "<table border=\"1\" class=\"dataframe\">\n",
       "  <thead>\n",
       "    <tr style=\"text-align: right;\">\n",
       "      <th></th>\n",
       "      <th>observations</th>\n",
       "    </tr>\n",
       "  </thead>\n",
       "  <tbody>\n",
       "    <tr>\n",
       "      <th>stori</th>\n",
       "      <td>508</td>\n",
       "    </tr>\n",
       "    <tr>\n",
       "      <th>want</th>\n",
       "      <td>470</td>\n",
       "    </tr>\n",
       "    <tr>\n",
       "      <th>ani</th>\n",
       "      <td>455</td>\n",
       "    </tr>\n",
       "    <tr>\n",
       "      <th>post</th>\n",
       "      <td>430</td>\n",
       "    </tr>\n",
       "    <tr>\n",
       "      <th>know</th>\n",
       "      <td>422</td>\n",
       "    </tr>\n",
       "    <tr>\n",
       "      <th>don</th>\n",
       "      <td>416</td>\n",
       "    </tr>\n",
       "    <tr>\n",
       "      <th>time</th>\n",
       "      <td>385</td>\n",
       "    </tr>\n",
       "    <tr>\n",
       "      <th>make</th>\n",
       "      <td>379</td>\n",
       "    </tr>\n",
       "    <tr>\n",
       "      <th>work</th>\n",
       "      <td>371</td>\n",
       "    </tr>\n",
       "    <tr>\n",
       "      <th>use</th>\n",
       "      <td>341</td>\n",
       "    </tr>\n",
       "  </tbody>\n",
       "</table>\n",
       "</div>"
      ],
      "text/plain": [
       "       observations\n",
       "stori  508         \n",
       "want   470         \n",
       "ani    455         \n",
       "post   430         \n",
       "know   422         \n",
       "don    416         \n",
       "time   385         \n",
       "make   379         \n",
       "work   371         \n",
       "use    341         "
      ]
     },
     "execution_count": 47,
     "metadata": {},
     "output_type": "execute_result"
    }
   ],
   "source": [
    "cvec_count = df_cvec.sum().sort_values(ascending=False).to_frame(name='observations')\n",
    "cvec_count.head(10)"
   ]
  },
  {
   "cell_type": "markdown",
   "id": "9854eb78",
   "metadata": {},
   "source": [
    "#### TFID Vectorizer"
   ]
  },
  {
   "cell_type": "code",
   "execution_count": 48,
   "id": "6d7c84e0",
   "metadata": {},
   "outputs": [],
   "source": [
    "tvec = TfidfVectorizer(ngram_range=(1,2),\n",
    "                       min_df=2,\n",
    "                        max_df=0.9,\n",
    "                      max_features= 5000)"
   ]
  },
  {
   "cell_type": "code",
   "execution_count": 49,
   "id": "d447b787",
   "metadata": {},
   "outputs": [],
   "source": [
    "train_data_features_tvec = tvec.fit_transform(clean_train_posts)\n",
    "test_data_features_tvec = tvec.transform(clean_test_posts)"
   ]
  },
  {
   "cell_type": "code",
   "execution_count": 50,
   "id": "ddad932d",
   "metadata": {},
   "outputs": [
    {
     "data": {
      "text/plain": [
       "(951, 5000)"
      ]
     },
     "execution_count": 50,
     "metadata": {},
     "output_type": "execute_result"
    }
   ],
   "source": [
    "train_data_features_tvec.shape"
   ]
  },
  {
   "cell_type": "code",
   "execution_count": 51,
   "id": "e958af1d",
   "metadata": {},
   "outputs": [
    {
     "data": {
      "text/plain": [
       "0.9842271293375394"
      ]
     },
     "execution_count": 51,
     "metadata": {},
     "output_type": "execute_result"
    }
   ],
   "source": [
    "lr = LogisticRegression(solver = 'lbfgs')\n",
    "\n",
    "# Fit model to training data.\n",
    "lr.fit(train_data_features_tvec, y_train)\n",
    "\n",
    "# Evaluate model on training data.\n",
    "lr.score(train_data_features_tvec, y_train)"
   ]
  },
  {
   "cell_type": "code",
   "execution_count": 52,
   "id": "9c87f1fd",
   "metadata": {},
   "outputs": [
    {
     "data": {
      "text/plain": [
       "0.9243697478991597"
      ]
     },
     "execution_count": 52,
     "metadata": {},
     "output_type": "execute_result"
    }
   ],
   "source": [
    "lr.score(test_data_features_tvec, y_test) # check if there are duplicated selftext."
   ]
  },
  {
   "cell_type": "code",
   "execution_count": 53,
   "id": "2b7651d6",
   "metadata": {},
   "outputs": [
    {
     "data": {
      "text/plain": [
       "0.9274786442546157"
      ]
     },
     "execution_count": 53,
     "metadata": {},
     "output_type": "execute_result"
    }
   ],
   "source": [
    "cross_val_score(lr, train_data_features_tvec, y_train, cv=5).mean()"
   ]
  },
  {
   "cell_type": "code",
   "execution_count": 54,
   "id": "95baaf4f",
   "metadata": {},
   "outputs": [],
   "source": [
    "tfid_df = pd.DataFrame(tvec.fit_transform(clean_train_posts).toarray(),\n",
    "                  columns=tvec.get_feature_names())"
   ]
  },
  {
   "cell_type": "code",
   "execution_count": 55,
   "id": "ffd191d7",
   "metadata": {},
   "outputs": [
    {
     "data": {
      "text/plain": [
       "(951, 5000)"
      ]
     },
     "execution_count": 55,
     "metadata": {},
     "output_type": "execute_result"
    }
   ],
   "source": [
    "tfid_df.shape"
   ]
  },
  {
   "cell_type": "code",
   "execution_count": 56,
   "id": "69e339b2",
   "metadata": {},
   "outputs": [
    {
     "data": {
      "text/plain": [
       "(951, 5000)"
      ]
     },
     "execution_count": 56,
     "metadata": {},
     "output_type": "execute_result"
    }
   ],
   "source": [
    "train_data_features_tvec.shape"
   ]
  },
  {
   "cell_type": "code",
   "execution_count": 57,
   "id": "5baf7c5c",
   "metadata": {},
   "outputs": [
    {
     "data": {
      "text/html": [
       "<div>\n",
       "<style scoped>\n",
       "    .dataframe tbody tr th:only-of-type {\n",
       "        vertical-align: middle;\n",
       "    }\n",
       "\n",
       "    .dataframe tbody tr th {\n",
       "        vertical-align: top;\n",
       "    }\n",
       "\n",
       "    .dataframe thead th {\n",
       "        text-align: right;\n",
       "    }\n",
       "</style>\n",
       "<table border=\"1\" class=\"dataframe\">\n",
       "  <thead>\n",
       "    <tr style=\"text-align: right;\">\n",
       "      <th></th>\n",
       "      <th>Most Common Terms</th>\n",
       "    </tr>\n",
       "  </thead>\n",
       "  <tbody>\n",
       "    <tr>\n",
       "      <th>stori</th>\n",
       "      <td>28.337425</td>\n",
       "    </tr>\n",
       "    <tr>\n",
       "      <th>post</th>\n",
       "      <td>23.988715</td>\n",
       "    </tr>\n",
       "    <tr>\n",
       "      <th>want</th>\n",
       "      <td>23.739673</td>\n",
       "    </tr>\n",
       "    <tr>\n",
       "      <th>ani</th>\n",
       "      <td>23.731618</td>\n",
       "    </tr>\n",
       "    <tr>\n",
       "      <th>know</th>\n",
       "      <td>22.967723</td>\n",
       "    </tr>\n",
       "    <tr>\n",
       "      <th>charact</th>\n",
       "      <td>21.872659</td>\n",
       "    </tr>\n",
       "    <tr>\n",
       "      <th>don</th>\n",
       "      <td>20.981066</td>\n",
       "    </tr>\n",
       "    <tr>\n",
       "      <th>book</th>\n",
       "      <td>20.748806</td>\n",
       "    </tr>\n",
       "    <tr>\n",
       "      <th>make</th>\n",
       "      <td>20.245501</td>\n",
       "    </tr>\n",
       "    <tr>\n",
       "      <th>time</th>\n",
       "      <td>19.492591</td>\n",
       "    </tr>\n",
       "  </tbody>\n",
       "</table>\n",
       "</div>"
      ],
      "text/plain": [
       "         Most Common Terms\n",
       "stori    28.337425        \n",
       "post     23.988715        \n",
       "want     23.739673        \n",
       "ani      23.731618        \n",
       "know     22.967723        \n",
       "charact  21.872659        \n",
       "don      20.981066        \n",
       "book     20.748806        \n",
       "make     20.245501        \n",
       "time     19.492591        "
      ]
     },
     "execution_count": 57,
     "metadata": {},
     "output_type": "execute_result"
    }
   ],
   "source": [
    "tvec_count = tfid_df.sum().sort_values(ascending=False).to_frame(name='Most Common Terms')\n",
    "tvec_count.head(10)"
   ]
  },
  {
   "cell_type": "markdown",
   "id": "27250ff1",
   "metadata": {},
   "source": [
    "### Observations\n",
    "\n",
    "We observe that using the tvec dataframe with weighted words based on its occurence and frequency, fetched a better train/test scores than cvec.\n",
    "\n",
    "Hence, we will choose the tvec dataframe for our logistic regression for now as we will try to find a better parameter by doing a gridsearch later."
   ]
  },
  {
   "cell_type": "markdown",
   "id": "dc7c3d8a",
   "metadata": {},
   "source": [
    "#### GridSearch"
   ]
  },
  {
   "cell_type": "code",
   "execution_count": 58,
   "id": "a1f902f4",
   "metadata": {},
   "outputs": [],
   "source": [
    "pipe = Pipeline([\n",
    "    ('tvec', TfidfVectorizer()),\n",
    "    ('lr', LogisticRegression(solver = 'lbfgs'))])"
   ]
  },
  {
   "cell_type": "code",
   "execution_count": 59,
   "id": "e94e3250",
   "metadata": {},
   "outputs": [
    {
     "data": {
      "text/plain": [
       "0.9327252686690548"
      ]
     },
     "execution_count": 59,
     "metadata": {},
     "output_type": "execute_result"
    }
   ],
   "source": [
    "cross_val_score(pipe, clean_train_posts, y_train, cv=5).mean()"
   ]
  },
  {
   "cell_type": "code",
   "execution_count": 60,
   "id": "3d312818",
   "metadata": {},
   "outputs": [],
   "source": [
    "pipe_params = {\n",
    "    'tvec__max_features': [2500,5000,7500],\n",
    "    'tvec__min_df' : [2,4,6],\n",
    "    'tvec__max_df': [0.9, 0.925, 0.95],\n",
    "    'tvec__ngram_range': [(1,1),(1,2),(2,3)]}"
   ]
  },
  {
   "cell_type": "code",
   "execution_count": 61,
   "id": "e5bc241b",
   "metadata": {},
   "outputs": [],
   "source": [
    "gs = GridSearchCV(pipe, # what object are we optimizing?\n",
    "                  param_grid=pipe_params, # what parameters values are we searching?\n",
    "                  cv=5) # 5-fold cross-validation."
   ]
  },
  {
   "cell_type": "code",
   "execution_count": 62,
   "id": "a6a1f599",
   "metadata": {},
   "outputs": [],
   "source": [
    "gs.fit(clean_train_posts, y_train);"
   ]
  },
  {
   "cell_type": "code",
   "execution_count": 63,
   "id": "91719be6",
   "metadata": {},
   "outputs": [
    {
     "data": {
      "text/plain": [
       "0.9369302838247451"
      ]
     },
     "execution_count": 63,
     "metadata": {},
     "output_type": "execute_result"
    }
   ],
   "source": [
    "gs.best_score_"
   ]
  },
  {
   "cell_type": "code",
   "execution_count": 64,
   "id": "f03673af",
   "metadata": {},
   "outputs": [
    {
     "data": {
      "text/plain": [
       "{'tvec__max_df': 0.9,\n",
       " 'tvec__max_features': 2500,\n",
       " 'tvec__min_df': 6,\n",
       " 'tvec__ngram_range': (1, 1)}"
      ]
     },
     "execution_count": 64,
     "metadata": {},
     "output_type": "execute_result"
    }
   ],
   "source": [
    "gs.best_params_"
   ]
  },
  {
   "cell_type": "code",
   "execution_count": 65,
   "id": "39637a84",
   "metadata": {},
   "outputs": [
    {
     "data": {
      "text/plain": [
       "Pipeline(steps=[('tvec',\n",
       "                 TfidfVectorizer(max_df=0.9, max_features=2500, min_df=6)),\n",
       "                ('lr', LogisticRegression())])"
      ]
     },
     "execution_count": 65,
     "metadata": {},
     "output_type": "execute_result"
    }
   ],
   "source": [
    "gs_model_lr = gs.best_estimator_\n",
    "gs_model_lr"
   ]
  },
  {
   "cell_type": "code",
   "execution_count": 66,
   "id": "ecd580e5",
   "metadata": {},
   "outputs": [
    {
     "data": {
      "text/plain": [
       "0.9789695057833859"
      ]
     },
     "execution_count": 66,
     "metadata": {},
     "output_type": "execute_result"
    }
   ],
   "source": [
    "gs_model_lr.score(clean_train_posts, y_train)"
   ]
  },
  {
   "cell_type": "code",
   "execution_count": 67,
   "id": "f88a14f2",
   "metadata": {},
   "outputs": [
    {
     "data": {
      "text/plain": [
       "0.9243697478991597"
      ]
     },
     "execution_count": 67,
     "metadata": {},
     "output_type": "execute_result"
    }
   ],
   "source": [
    "gs_model_lr.score(clean_test_posts, y_test)"
   ]
  },
  {
   "cell_type": "code",
   "execution_count": 68,
   "id": "30f9ec01",
   "metadata": {},
   "outputs": [],
   "source": [
    "predicted_test = gs_model_lr.predict(clean_test_posts)"
   ]
  },
  {
   "cell_type": "code",
   "execution_count": 69,
   "id": "ecd41abc",
   "metadata": {},
   "outputs": [
    {
     "data": {
      "image/png": "[encoded data removed]",
      "text/plain": [
       "<Figure size 432x288 with 1 Axes>"
      ]
     },
     "metadata": {
      "needs_background": "light"
     },
     "output_type": "display_data"
    }
   ],
   "source": [
    "sns.regplot(y_test, predicted_test);"
   ]
  },
  {
   "cell_type": "code",
   "execution_count": 70,
   "id": "b66e0b95",
   "metadata": {},
   "outputs": [
    {
     "data": {
      "text/html": [
       "<div>\n",
       "<style scoped>\n",
       "    .dataframe tbody tr th:only-of-type {\n",
       "        vertical-align: middle;\n",
       "    }\n",
       "\n",
       "    .dataframe tbody tr th {\n",
       "        vertical-align: top;\n",
       "    }\n",
       "\n",
       "    .dataframe thead th {\n",
       "        text-align: right;\n",
       "    }\n",
       "</style>\n",
       "<table border=\"1\" class=\"dataframe\">\n",
       "  <thead>\n",
       "    <tr style=\"text-align: right;\">\n",
       "      <th></th>\n",
       "      <th>true_values</th>\n",
       "      <th>pred_probs</th>\n",
       "    </tr>\n",
       "  </thead>\n",
       "  <tbody>\n",
       "    <tr>\n",
       "      <th>514</th>\n",
       "      <td>0</td>\n",
       "      <td>0.067360</td>\n",
       "    </tr>\n",
       "    <tr>\n",
       "      <th>252</th>\n",
       "      <td>1</td>\n",
       "      <td>0.641358</td>\n",
       "    </tr>\n",
       "    <tr>\n",
       "      <th>314</th>\n",
       "      <td>1</td>\n",
       "      <td>0.682394</td>\n",
       "    </tr>\n",
       "    <tr>\n",
       "      <th>368</th>\n",
       "      <td>1</td>\n",
       "      <td>0.716436</td>\n",
       "    </tr>\n",
       "    <tr>\n",
       "      <th>71</th>\n",
       "      <td>1</td>\n",
       "      <td>0.508425</td>\n",
       "    </tr>\n",
       "  </tbody>\n",
       "</table>\n",
       "</div>"
      ],
      "text/plain": [
       "     true_values  pred_probs\n",
       "514  0            0.067360  \n",
       "252  1            0.641358  \n",
       "314  1            0.682394  \n",
       "368  1            0.716436  \n",
       "71   1            0.508425  "
      ]
     },
     "execution_count": 70,
     "metadata": {},
     "output_type": "execute_result"
    }
   ],
   "source": [
    "pred_proba_lr = [i[1] for i in gs_model_lr.predict_proba(clean_test_posts)]\n",
    "pred_df_lr = pd.DataFrame({'true_values': y_test,\n",
    "                        'pred_probs':pred_proba_lr})\n",
    "\n",
    "pred_df_lr.head()"
   ]
  },
  {
   "cell_type": "code",
   "execution_count": 71,
   "id": "6657f6dd",
   "metadata": {},
   "outputs": [
    {
     "data": {
      "text/plain": [
       "0.971381199538639"
      ]
     },
     "execution_count": 71,
     "metadata": {},
     "output_type": "execute_result"
    }
   ],
   "source": [
    "lr_roc = roc_auc_score(y_test,pred_proba_lr)\n",
    "lr_roc"
   ]
  },
  {
   "cell_type": "code",
   "execution_count": 72,
   "id": "7ad58933",
   "metadata": {},
   "outputs": [
    {
     "data": {
      "image/png": "[encoded data removed]",
      "text/plain": [
       "<Figure size 720x504 with 1 Axes>"
      ]
     },
     "metadata": {
      "needs_background": "light"
     },
     "output_type": "display_data"
    }
   ],
   "source": [
    "# Create figure.\n",
    "plt.figure(figsize = (10,7))\n",
    "\n",
    "# Create threshold values.\n",
    "thresholds = np.linspace(0, 1, 200)\n",
    "\n",
    "# Define function to calculate sensitivity. (True positive rate.)\n",
    "def TPR(df, true_col, pred_prob_col, threshold):\n",
    "    true_positive = df[(df[true_col] == 1) & (df[pred_prob_col] >= threshold)].shape[0]\n",
    "    false_negative = df[(df[true_col] == 1) & (df[pred_prob_col] < threshold)].shape[0]\n",
    "    return true_positive / (true_positive + false_negative)\n",
    "    \n",
    "\n",
    "# Define function to calculate 1 - specificity. (False positive rate.)\n",
    "def FPR(df, true_col, pred_prob_col, threshold):\n",
    "    true_negative = df[(df[true_col] == 0) & (df[pred_prob_col] <= threshold)].shape[0]\n",
    "    false_positive = df[(df[true_col] == 0) & (df[pred_prob_col] > threshold)].shape[0]\n",
    "    return 1 - (true_negative / (true_negative + false_positive))\n",
    "    \n",
    "# Calculate sensitivity & 1-specificity for each threshold between 0 and 1.\n",
    "tpr_values = [TPR(pred_df_lr, 'true_values', 'pred_probs', prob) for prob in thresholds]\n",
    "fpr_values = [FPR(pred_df_lr, 'true_values', 'pred_probs', prob) for prob in thresholds]\n",
    "\n",
    "# Plot ROC curve.\n",
    "plt.plot(fpr_values, # False Positive Rate on X-axis\n",
    "         tpr_values, # True Positive Rate on Y-axis\n",
    "         label='ROC Curve')\n",
    "\n",
    "# Plot baseline. (Perfect overlap between the two populations.)\n",
    "plt.plot(np.linspace(0, 1, 200),\n",
    "         np.linspace(0, 1, 200),\n",
    "         label='baseline',\n",
    "         linestyle='--')\n",
    "\n",
    "# Label axes.\n",
    "plt.title('Receiver Operating Characteristic Curve (Logistic Regression)', fontsize=22)\n",
    "plt.ylabel('Sensitivity \\n (True Positive Rate)', fontsize=18)\n",
    "plt.xlabel('1 - Specificity \\n (False Positive Rate)', fontsize=18)\n",
    "\n",
    "# Create legend.\n",
    "plt.legend(fontsize=16);"
   ]
  },
  {
   "cell_type": "code",
   "execution_count": 73,
   "id": "c3be61af",
   "metadata": {},
   "outputs": [
    {
     "data": {
      "text/plain": [
       "[('tvec', TfidfVectorizer(max_df=0.9, max_features=2500, min_df=6)),\n",
       " ('lr', LogisticRegression())]"
      ]
     },
     "execution_count": 73,
     "metadata": {},
     "output_type": "execute_result"
    }
   ],
   "source": [
    "gs_model_lr.steps"
   ]
  },
  {
   "cell_type": "code",
   "execution_count": 74,
   "id": "a1dc6489",
   "metadata": {},
   "outputs": [],
   "source": [
    "words = list(gs_model_lr.steps[0][1].get_feature_names())\n",
    "coeff = list(np.exp(gs_model_lr.steps[1][1].coef_[0]))"
   ]
  },
  {
   "cell_type": "code",
   "execution_count": 75,
   "id": "548a5b22",
   "metadata": {},
   "outputs": [],
   "source": [
    "dataframe = pd.DataFrame(data=words)\n",
    "dataframe['coef'] = coeff\n",
    "dataframe.columns = ['word', 'coef']"
   ]
  },
  {
   "cell_type": "code",
   "execution_count": 76,
   "id": "a11215ca",
   "metadata": {},
   "outputs": [
    {
     "data": {
      "text/html": [
       "<div>\n",
       "<style scoped>\n",
       "    .dataframe tbody tr th:only-of-type {\n",
       "        vertical-align: middle;\n",
       "    }\n",
       "\n",
       "    .dataframe tbody tr th {\n",
       "        vertical-align: top;\n",
       "    }\n",
       "\n",
       "    .dataframe thead th {\n",
       "        text-align: right;\n",
       "    }\n",
       "</style>\n",
       "<table border=\"1\" class=\"dataframe\">\n",
       "  <thead>\n",
       "    <tr style=\"text-align: right;\">\n",
       "      <th></th>\n",
       "      <th>word</th>\n",
       "      <th>coef</th>\n",
       "    </tr>\n",
       "  </thead>\n",
       "  <tbody>\n",
       "    <tr>\n",
       "      <th>1004</th>\n",
       "      <td>stori</td>\n",
       "      <td>0.027445</td>\n",
       "    </tr>\n",
       "    <tr>\n",
       "      <th>154</th>\n",
       "      <td>charact</td>\n",
       "      <td>0.052935</td>\n",
       "    </tr>\n",
       "    <tr>\n",
       "      <th>125</th>\n",
       "      <td>book</td>\n",
       "      <td>0.102798</td>\n",
       "    </tr>\n",
       "    <tr>\n",
       "      <th>692</th>\n",
       "      <td>novel</td>\n",
       "      <td>0.119583</td>\n",
       "    </tr>\n",
       "    <tr>\n",
       "      <th>153</th>\n",
       "      <td>chapter</td>\n",
       "      <td>0.174134</td>\n",
       "    </tr>\n",
       "    <tr>\n",
       "      <th>...</th>\n",
       "      <td>...</td>\n",
       "      <td>...</td>\n",
       "    </tr>\n",
       "    <tr>\n",
       "      <th>202</th>\n",
       "      <td>content</td>\n",
       "      <td>8.799020</td>\n",
       "    </tr>\n",
       "    <tr>\n",
       "      <th>1138</th>\n",
       "      <td>websit</td>\n",
       "      <td>11.585256</td>\n",
       "    </tr>\n",
       "    <tr>\n",
       "      <th>73</th>\n",
       "      <td>articl</td>\n",
       "      <td>12.530748</td>\n",
       "    </tr>\n",
       "    <tr>\n",
       "      <th>950</th>\n",
       "      <td>site</td>\n",
       "      <td>14.641411</td>\n",
       "    </tr>\n",
       "    <tr>\n",
       "      <th>780</th>\n",
       "      <td>post</td>\n",
       "      <td>29.800721</td>\n",
       "    </tr>\n",
       "  </tbody>\n",
       "</table>\n",
       "<p>1177 rows × 2 columns</p>\n",
       "</div>"
      ],
      "text/plain": [
       "         word       coef\n",
       "1004  stori    0.027445 \n",
       "154   charact  0.052935 \n",
       "125   book     0.102798 \n",
       "692   novel    0.119583 \n",
       "153   chapter  0.174134 \n",
       "...       ...       ... \n",
       "202   content  8.799020 \n",
       "1138  websit   11.585256\n",
       "73    articl   12.530748\n",
       "950   site     14.641411\n",
       "780   post     29.800721\n",
       "\n",
       "[1177 rows x 2 columns]"
      ]
     },
     "execution_count": 76,
     "metadata": {},
     "output_type": "execute_result"
    }
   ],
   "source": [
    "dataframe.sort_values(by='coef')"
   ]
  },
  {
   "cell_type": "code",
   "execution_count": 77,
   "id": "8d334764",
   "metadata": {},
   "outputs": [],
   "source": [
    "lr_blog_df = dataframe.sort_values(by='coef',ascending=False).head(15)\n",
    "lr_write_df = dataframe.sort_values(by='coef',ascending=False).tail(15)"
   ]
  },
  {
   "cell_type": "code",
   "execution_count": 78,
   "id": "632cb5cf",
   "metadata": {},
   "outputs": [
    {
     "data": {
      "image/png": "[encoded data removed]",
      "text/plain": [
       "<Figure size 720x576 with 1 Axes>"
      ]
     },
     "metadata": {
      "needs_background": "light"
     },
     "output_type": "display_data"
    }
   ],
   "source": [
    "plt.figure(figsize=(10,8))\n",
    "sns.set_context(\"notebook\", font_scale=1.5, rc={\"lines.linewidth\": 2.0})\n",
    "sns.barplot(data=lr_blog_df,y='word',x='coef',palette=\"rocket\")\n",
    "plt.title(\"Logistic Regression Model: Blogging Coefficients (Highest Coefficient indicates greater predictability)\");"
   ]
  },
  {
   "cell_type": "code",
   "execution_count": 79,
   "id": "4005cd61",
   "metadata": {},
   "outputs": [
    {
     "data": {
      "image/png": "[encoded data removed]",
      "text/plain": [
       "<Figure size 720x576 with 1 Axes>"
      ]
     },
     "metadata": {
      "needs_background": "light"
     },
     "output_type": "display_data"
    }
   ],
   "source": [
    "sns.set_context(\"notebook\", font_scale=1.5, rc={\"lines.linewidth\": 2.0})\n",
    "plt.figure(figsize=(10,8))\n",
    "sns.barplot(data=lr_write_df,y='word',x='coef',palette=\"rocket\")\n",
    "plt.title(\"Logistic Regression Model: Writing Coefficients (Lowest Coefficient indicates greater predictability)\");"
   ]
  },
  {
   "cell_type": "code",
   "execution_count": 80,
   "id": "962fc8e5",
   "metadata": {},
   "outputs": [],
   "source": [
    "# Generate a confusion matrix.\n",
    "cm_lr = confusion_matrix(y_test, predicted_test)"
   ]
  },
  {
   "cell_type": "code",
   "execution_count": 81,
   "id": "05a6b2da",
   "metadata": {},
   "outputs": [],
   "source": [
    "tn, fp, fn, tp = confusion_matrix(y_test, predicted_test).ravel()"
   ]
  },
  {
   "cell_type": "code",
   "execution_count": 82,
   "id": "4111db72",
   "metadata": {},
   "outputs": [
    {
     "data": {
      "text/html": [
       "<div>\n",
       "<style scoped>\n",
       "    .dataframe tbody tr th:only-of-type {\n",
       "        vertical-align: middle;\n",
       "    }\n",
       "\n",
       "    .dataframe tbody tr th {\n",
       "        vertical-align: top;\n",
       "    }\n",
       "\n",
       "    .dataframe thead th {\n",
       "        text-align: right;\n",
       "    }\n",
       "</style>\n",
       "<table border=\"1\" class=\"dataframe\">\n",
       "  <thead>\n",
       "    <tr style=\"text-align: right;\">\n",
       "      <th></th>\n",
       "      <th>predicted writing</th>\n",
       "      <th>predicted blogging</th>\n",
       "    </tr>\n",
       "  </thead>\n",
       "  <tbody>\n",
       "    <tr>\n",
       "      <th>actual writing</th>\n",
       "      <td>125</td>\n",
       "      <td>11</td>\n",
       "    </tr>\n",
       "    <tr>\n",
       "      <th>actual blogging</th>\n",
       "      <td>7</td>\n",
       "      <td>95</td>\n",
       "    </tr>\n",
       "  </tbody>\n",
       "</table>\n",
       "</div>"
      ],
      "text/plain": [
       "                 predicted writing  predicted blogging\n",
       "actual writing   125                11                \n",
       "actual blogging  7                  95                "
      ]
     },
     "execution_count": 82,
     "metadata": {},
     "output_type": "execute_result"
    }
   ],
   "source": [
    "cm_df = pd.DataFrame(cm_lr, columns=['predicted writing', 'predicted blogging'], index=['actual writing', 'actual blogging'])\n",
    "cm_df"
   ]
  },
  {
   "cell_type": "markdown",
   "id": "72a877c2",
   "metadata": {},
   "source": [
    "#### Naive-Bayes Modelling "
   ]
  },
  {
   "cell_type": "code",
   "execution_count": 83,
   "id": "d1ac31b0",
   "metadata": {},
   "outputs": [],
   "source": [
    "# Import our model\n",
    "from sklearn.naive_bayes import MultinomialNB"
   ]
  },
  {
   "cell_type": "code",
   "execution_count": 84,
   "id": "ed2d534f",
   "metadata": {},
   "outputs": [],
   "source": [
    "# Instantiate our model\n",
    "\n",
    "nb = MultinomialNB(class_prior=[0.4,0.6])"
   ]
  },
  {
   "cell_type": "code",
   "execution_count": 87,
   "id": "344424a9",
   "metadata": {},
   "outputs": [],
   "source": [
    "# Fit our model\n",
    "\n",
    "model = nb.fit(train_data_features_tvec, y_train)"
   ]
  },
  {
   "cell_type": "code",
   "execution_count": 88,
   "id": "0c298105",
   "metadata": {},
   "outputs": [
    {
     "data": {
      "text/plain": [
       "array([0, 1, 1, 1, 1, 1, 0, 0, 1, 0, 0, 0, 1, 0, 0, 1, 1, 0, 0, 0, 0, 0,\n",
       "       0, 0, 1, 1, 1, 0, 1, 0, 1, 1, 1, 0, 0, 1, 0, 0, 0, 1, 1, 1, 0, 0,\n",
       "       0, 1, 0, 1, 1, 0, 1, 1, 1, 0, 0, 1, 1, 0, 0, 1, 0, 0, 0, 1, 0, 1,\n",
       "       1, 0, 0, 1, 1, 1, 0, 0, 1, 0, 1, 0, 1, 1, 1, 0, 1, 0, 1, 0, 0, 1,\n",
       "       1, 0, 0, 0, 1, 1, 1, 0, 1, 0, 0, 0, 1, 0, 0, 1, 0, 1, 1, 1, 1, 1,\n",
       "       1, 0, 0, 0, 0, 1, 1, 0, 0, 1, 1, 1, 0, 1, 1, 0, 1, 1, 1, 1, 0, 1,\n",
       "       1, 1, 1, 1, 1, 0, 0, 1, 0, 1, 1, 0, 0, 0, 1, 0, 1, 0, 1, 0, 0, 1,\n",
       "       0, 1, 1, 0, 1, 1, 1, 1, 0, 0, 1, 1, 0, 0, 1, 0, 1, 1, 0, 1, 1, 0,\n",
       "       1, 1, 1, 0, 0, 0, 1, 0, 0, 1, 0, 1, 1, 1, 0, 1, 0, 0, 1, 1, 0, 0,\n",
       "       1, 1, 0, 0, 0, 0, 1, 1, 0, 1, 0, 1, 0, 0, 1, 0, 0, 0, 0, 0, 1, 0,\n",
       "       0, 0, 0, 0, 0, 1, 1, 0, 0, 1, 1, 1, 0, 0, 1, 0, 0, 1], dtype=int64)"
      ]
     },
     "execution_count": 88,
     "metadata": {},
     "output_type": "execute_result"
    }
   ],
   "source": [
    "# Generate our predictions\n",
    "\n",
    "predictions = nb.predict(test_data_features_tvec)\n",
    "predictions"
   ]
  },
  {
   "cell_type": "code",
   "execution_count": 89,
   "id": "9db0ed0d",
   "metadata": {},
   "outputs": [
    {
     "data": {
      "text/plain": [
       "0.9800210304942166"
      ]
     },
     "execution_count": 89,
     "metadata": {},
     "output_type": "execute_result"
    }
   ],
   "source": [
    "# Score our model on the training set.\n",
    "nb.score(train_data_features_tvec, y_train)"
   ]
  },
  {
   "cell_type": "code",
   "execution_count": 90,
   "id": "0f15e2a1",
   "metadata": {},
   "outputs": [
    {
     "data": {
      "text/plain": [
       "0.8865546218487395"
      ]
     },
     "execution_count": 90,
     "metadata": {},
     "output_type": "execute_result"
    }
   ],
   "source": [
    "# Score our model on the testing set.\n",
    "nb.score(test_data_features_tvec,y_test)"
   ]
  },
  {
   "cell_type": "code",
   "execution_count": 91,
   "id": "ebfc638f",
   "metadata": {},
   "outputs": [
    {
     "data": {
      "text/plain": [
       "array([[114,  22],\n",
       "       [  5,  97]], dtype=int64)"
      ]
     },
     "execution_count": 91,
     "metadata": {},
     "output_type": "execute_result"
    }
   ],
   "source": [
    "# Generate a confusion matrix.\n",
    "confusion_matrix(y_test,predictions)"
   ]
  },
  {
   "cell_type": "code",
   "execution_count": 92,
   "id": "9f9b11f5",
   "metadata": {},
   "outputs": [],
   "source": [
    "tn, fp, fn, tp = confusion_matrix(y_test, predictions).ravel()"
   ]
  },
  {
   "cell_type": "code",
   "execution_count": 93,
   "id": "5c22c80d",
   "metadata": {},
   "outputs": [
    {
     "name": "stdout",
     "output_type": "stream",
     "text": [
      "True Negatives: 114\n",
      "False Positives: 22\n",
      "False Negatives: 5\n",
      "True Positives: 97\n"
     ]
    }
   ],
   "source": [
    "print(\"True Negatives: %s\" % tn)\n",
    "print(\"False Positives: %s\" % fp)\n",
    "print(\"False Negatives: %s\" % fn)\n",
    "print(\"True Positives: %s\" % tp)"
   ]
  },
  {
   "cell_type": "markdown",
   "id": "16796786",
   "metadata": {},
   "source": [
    "#### Observations\n",
    "\n",
    "Confusion matrix suggest that our classifier is generally accurate in predicting our reddit posts into its two correct subreddit groups"
   ]
  },
  {
   "cell_type": "markdown",
   "id": "67da58a9",
   "metadata": {},
   "source": [
    "#### GridSearch "
   ]
  },
  {
   "cell_type": "code",
   "execution_count": 94,
   "id": "49b66dad",
   "metadata": {},
   "outputs": [],
   "source": [
    "pipe = Pipeline([\n",
    "    ('tvec', TfidfVectorizer()),\n",
    "    ('nb', MultinomialNB())\n",
    "])"
   ]
  },
  {
   "cell_type": "code",
   "execution_count": 95,
   "id": "f5984fae",
   "metadata": {},
   "outputs": [
    {
     "data": {
      "text/plain": [
       "0.9190961697437311"
      ]
     },
     "execution_count": 95,
     "metadata": {},
     "output_type": "execute_result"
    }
   ],
   "source": [
    "cross_val_score(pipe, clean_train_posts, y_train, cv=5).mean()"
   ]
  },
  {
   "cell_type": "code",
   "execution_count": 96,
   "id": "8bf0f359",
   "metadata": {},
   "outputs": [],
   "source": [
    "pipe_params = {\n",
    "    'tvec__max_features': [500,1000,2500],\n",
    "    'tvec__min_df' : [2,4,6],\n",
    "    'tvec__max_df': [0.9, 0.925, 0.95],\n",
    "    'tvec__ngram_range': [(1,1),(1,2),(2,3)]}"
   ]
  },
  {
   "cell_type": "code",
   "execution_count": 97,
   "id": "ac836ece",
   "metadata": {},
   "outputs": [],
   "source": [
    "gs = GridSearchCV(pipe, # what object are we optimizing?\n",
    "                  param_grid=pipe_params, # what parameters values are we searching?\n",
    "                  cv=5) # 5-fold cross-validation."
   ]
  },
  {
   "cell_type": "code",
   "execution_count": 98,
   "id": "244abdcd",
   "metadata": {},
   "outputs": [],
   "source": [
    "gs.fit(clean_train_posts, y_train);"
   ]
  },
  {
   "cell_type": "code",
   "execution_count": 99,
   "id": "fed40ac1",
   "metadata": {},
   "outputs": [
    {
     "data": {
      "text/plain": [
       "0.9285367869936622"
      ]
     },
     "execution_count": 99,
     "metadata": {},
     "output_type": "execute_result"
    }
   ],
   "source": [
    "gs.best_score_"
   ]
  },
  {
   "cell_type": "code",
   "execution_count": 100,
   "id": "9fd9d6a8",
   "metadata": {},
   "outputs": [
    {
     "data": {
      "text/plain": [
       "{'tvec__max_df': 0.9,\n",
       " 'tvec__max_features': 1000,\n",
       " 'tvec__min_df': 2,\n",
       " 'tvec__ngram_range': (1, 2)}"
      ]
     },
     "execution_count": 100,
     "metadata": {},
     "output_type": "execute_result"
    }
   ],
   "source": [
    "gs.best_params_"
   ]
  },
  {
   "cell_type": "code",
   "execution_count": 101,
   "id": "8fa80cfb",
   "metadata": {},
   "outputs": [
    {
     "data": {
      "text/plain": [
       "Pipeline(steps=[('tvec',\n",
       "                 TfidfVectorizer(max_df=0.9, max_features=1000, min_df=2,\n",
       "                                 ngram_range=(1, 2))),\n",
       "                ('nb', MultinomialNB())])"
      ]
     },
     "execution_count": 101,
     "metadata": {},
     "output_type": "execute_result"
    }
   ],
   "source": [
    "gs_model_nb = gs.best_estimator_\n",
    "gs_model_nb"
   ]
  },
  {
   "cell_type": "code",
   "execution_count": 102,
   "id": "837e2f27",
   "metadata": {},
   "outputs": [
    {
     "data": {
      "text/plain": [
       "0.9663512092534174"
      ]
     },
     "execution_count": 102,
     "metadata": {},
     "output_type": "execute_result"
    }
   ],
   "source": [
    "gs_model_nb.score(clean_train_posts, y_train)"
   ]
  },
  {
   "cell_type": "code",
   "execution_count": 103,
   "id": "fc93611d",
   "metadata": {},
   "outputs": [
    {
     "data": {
      "text/plain": [
       "0.9033613445378151"
      ]
     },
     "execution_count": 103,
     "metadata": {},
     "output_type": "execute_result"
    }
   ],
   "source": [
    "gs_model_nb.score(clean_test_posts, y_test)"
   ]
  },
  {
   "cell_type": "code",
   "execution_count": 104,
   "id": "7c5b9846",
   "metadata": {},
   "outputs": [],
   "source": [
    "predicted_test = gs_model_nb.predict(clean_test_posts)"
   ]
  },
  {
   "cell_type": "code",
   "execution_count": 105,
   "id": "693c469e",
   "metadata": {},
   "outputs": [
    {
     "data": {
      "image/png": "[encoded data removed]",
      "text/plain": [
       "<Figure size 432x288 with 1 Axes>"
      ]
     },
     "metadata": {
      "needs_background": "light"
     },
     "output_type": "display_data"
    }
   ],
   "source": [
    "sns.regplot(y_test, predicted_test);"
   ]
  },
  {
   "cell_type": "code",
   "execution_count": 106,
   "id": "ff4e6b5f",
   "metadata": {},
   "outputs": [
    {
     "data": {
      "text/html": [
       "<div>\n",
       "<style scoped>\n",
       "    .dataframe tbody tr th:only-of-type {\n",
       "        vertical-align: middle;\n",
       "    }\n",
       "\n",
       "    .dataframe tbody tr th {\n",
       "        vertical-align: top;\n",
       "    }\n",
       "\n",
       "    .dataframe thead th {\n",
       "        text-align: right;\n",
       "    }\n",
       "</style>\n",
       "<table border=\"1\" class=\"dataframe\">\n",
       "  <thead>\n",
       "    <tr style=\"text-align: right;\">\n",
       "      <th></th>\n",
       "      <th>true_values</th>\n",
       "      <th>pred_probs</th>\n",
       "    </tr>\n",
       "  </thead>\n",
       "  <tbody>\n",
       "    <tr>\n",
       "      <th>514</th>\n",
       "      <td>0</td>\n",
       "      <td>0.058846</td>\n",
       "    </tr>\n",
       "    <tr>\n",
       "      <th>252</th>\n",
       "      <td>1</td>\n",
       "      <td>0.775834</td>\n",
       "    </tr>\n",
       "    <tr>\n",
       "      <th>314</th>\n",
       "      <td>1</td>\n",
       "      <td>0.832743</td>\n",
       "    </tr>\n",
       "    <tr>\n",
       "      <th>368</th>\n",
       "      <td>1</td>\n",
       "      <td>0.719455</td>\n",
       "    </tr>\n",
       "    <tr>\n",
       "      <th>71</th>\n",
       "      <td>1</td>\n",
       "      <td>0.630669</td>\n",
       "    </tr>\n",
       "  </tbody>\n",
       "</table>\n",
       "</div>"
      ],
      "text/plain": [
       "     true_values  pred_probs\n",
       "514  0            0.058846  \n",
       "252  1            0.775834  \n",
       "314  1            0.832743  \n",
       "368  1            0.719455  \n",
       "71   1            0.630669  "
      ]
     },
     "execution_count": 106,
     "metadata": {},
     "output_type": "execute_result"
    }
   ],
   "source": [
    "pred_proba_nb= [i[1] for i in gs_model_nb.predict_proba(clean_test_posts)]\n",
    "pred_df_nb = pd.DataFrame({'true_values': y_test,\n",
    "                        'pred_probs':pred_proba_nb})\n",
    "\n",
    "pred_df_nb.head()"
   ]
  },
  {
   "cell_type": "code",
   "execution_count": 107,
   "id": "4f8d3f0b",
   "metadata": {},
   "outputs": [
    {
     "data": {
      "text/plain": [
       "0.9715974625144175"
      ]
     },
     "execution_count": 107,
     "metadata": {},
     "output_type": "execute_result"
    }
   ],
   "source": [
    "nb_roc = roc_auc_score(y_test,pred_proba_nb)\n",
    "nb_roc"
   ]
  },
  {
   "cell_type": "code",
   "execution_count": 108,
   "id": "cb60268a",
   "metadata": {},
   "outputs": [
    {
     "data": {
      "image/png": "[encoded data removed]",
      "text/plain": [
       "<Figure size 720x504 with 1 Axes>"
      ]
     },
     "metadata": {
      "needs_background": "light"
     },
     "output_type": "display_data"
    }
   ],
   "source": [
    "# Create figure.\n",
    "plt.figure(figsize = (10,7))\n",
    "\n",
    "# Create threshold values.\n",
    "thresholds = np.linspace(0, 1, 200)\n",
    "\n",
    "# Define function to calculate sensitivity. (True positive rate.)\n",
    "def TPR(df, true_col, pred_prob_col, threshold):\n",
    "    true_positive = df[(df[true_col] == 1) & (df[pred_prob_col] >= threshold)].shape[0]\n",
    "    false_negative = df[(df[true_col] == 1) & (df[pred_prob_col] < threshold)].shape[0]\n",
    "    return true_positive / (true_positive + false_negative)\n",
    "    \n",
    "\n",
    "# Define function to calculate 1 - specificity. (False positive rate.)\n",
    "def FPR(df, true_col, pred_prob_col, threshold):\n",
    "    true_negative = df[(df[true_col] == 0) & (df[pred_prob_col] <= threshold)].shape[0]\n",
    "    false_positive = df[(df[true_col] == 0) & (df[pred_prob_col] > threshold)].shape[0]\n",
    "    return 1 - (true_negative / (true_negative + false_positive))\n",
    "    \n",
    "# Calculate sensitivity & 1-specificity for each threshold between 0 and 1.\n",
    "tpr_values = [TPR(pred_df_nb, 'true_values', 'pred_probs', prob) for prob in thresholds]\n",
    "fpr_values = [FPR(pred_df_nb, 'true_values', 'pred_probs', prob) for prob in thresholds]\n",
    "\n",
    "# Plot ROC curve.\n",
    "plt.plot(fpr_values, # False Positive Rate on X-axis\n",
    "         tpr_values, # True Positive Rate on Y-axis\n",
    "         label='ROC Curve')\n",
    "\n",
    "# Plot baseline. (Perfect overlap between the two populations.)\n",
    "plt.plot(np.linspace(0, 1, 200),\n",
    "         np.linspace(0, 1, 200),\n",
    "         label='baseline',\n",
    "         linestyle='--')\n",
    "\n",
    "# Label axes.\n",
    "plt.title('Receiver Operating Characteristic Curve (Naive-Bayes)', fontsize=22)\n",
    "plt.ylabel('Sensitivity \\n (True Positive Rate)', fontsize=18)\n",
    "plt.xlabel('1 - Specificity \\n (False Positive Rate)', fontsize=18)\n",
    "\n",
    "# Create legend.\n",
    "plt.legend(fontsize=16);"
   ]
  },
  {
   "cell_type": "code",
   "execution_count": 109,
   "id": "da25963e",
   "metadata": {},
   "outputs": [
    {
     "data": {
      "text/plain": [
       "[('tvec',\n",
       "  TfidfVectorizer(max_df=0.9, max_features=1000, min_df=2, ngram_range=(1, 2))),\n",
       " ('nb', MultinomialNB())]"
      ]
     },
     "execution_count": 109,
     "metadata": {},
     "output_type": "execute_result"
    }
   ],
   "source": [
    "gs_model_nb.steps"
   ]
  },
  {
   "cell_type": "code",
   "execution_count": 110,
   "id": "b046e6bc",
   "metadata": {},
   "outputs": [],
   "source": [
    "cm_nb = confusion_matrix(y_test, predicted_test)\n",
    "tn, fp, fn, tp = cm_nb.ravel()"
   ]
  },
  {
   "cell_type": "code",
   "execution_count": 111,
   "id": "62555fd2",
   "metadata": {},
   "outputs": [
    {
     "data": {
      "text/html": [
       "<div>\n",
       "<style scoped>\n",
       "    .dataframe tbody tr th:only-of-type {\n",
       "        vertical-align: middle;\n",
       "    }\n",
       "\n",
       "    .dataframe tbody tr th {\n",
       "        vertical-align: top;\n",
       "    }\n",
       "\n",
       "    .dataframe thead th {\n",
       "        text-align: right;\n",
       "    }\n",
       "</style>\n",
       "<table border=\"1\" class=\"dataframe\">\n",
       "  <thead>\n",
       "    <tr style=\"text-align: right;\">\n",
       "      <th></th>\n",
       "      <th>predicted writing</th>\n",
       "      <th>predicted blogging</th>\n",
       "    </tr>\n",
       "  </thead>\n",
       "  <tbody>\n",
       "    <tr>\n",
       "      <th>actual writing</th>\n",
       "      <td>122</td>\n",
       "      <td>14</td>\n",
       "    </tr>\n",
       "    <tr>\n",
       "      <th>actual blogging</th>\n",
       "      <td>9</td>\n",
       "      <td>93</td>\n",
       "    </tr>\n",
       "  </tbody>\n",
       "</table>\n",
       "</div>"
      ],
      "text/plain": [
       "                 predicted writing  predicted blogging\n",
       "actual writing   122                14                \n",
       "actual blogging  9                  93                "
      ]
     },
     "execution_count": 111,
     "metadata": {},
     "output_type": "execute_result"
    }
   ],
   "source": [
    "cm_df = pd.DataFrame(cm_nb, columns=['predicted writing', 'predicted blogging'], index=['actual writing', 'actual blogging'])\n",
    "cm_df"
   ]
  },
  {
   "cell_type": "code",
   "execution_count": 112,
   "id": "4a654b1c",
   "metadata": {},
   "outputs": [
    {
     "data": {
      "text/plain": [
       "Int64Index([211, 223, 488, 267, 34, 266, 164, 4, 172], dtype='int64')"
      ]
     },
     "execution_count": 112,
     "metadata": {},
     "output_type": "execute_result"
    }
   ],
   "source": [
    "d = {'y_test': y_test, 'predicted_test': predicted_test,'difference':y_test-predicted_test}\n",
    "nb_compare = pd.DataFrame(data=d)\n",
    "nb_index_blogtowrite = nb_compare[nb_compare['difference']==1].index\n",
    "nb_index_blogtowrite"
   ]
  },
  {
   "cell_type": "code",
   "execution_count": 113,
   "id": "1ce0afc8",
   "metadata": {},
   "outputs": [
    {
     "data": {
      "text/plain": [
       "211    I want to start a blog but need some help figuring out my niche. I want to do a book blog. The issue with this of course is that there are many book blogs so carving my corner of the market may be difficult. \\n\\nI feel like I know what my niche is - sort of - but I’m having trouble defining it. \\n\\nI want to write about the types of books I actually read, which consists of non-fiction like *Mindfuck*, Plato’s *Republic*, John Stuart Mill, Pikkety, etc. basically political science and current affairs books, including older political texts. Some of my favourite fiction includes McCarthy’s *The Road*, Williams’ *Stoner*, Atwood’s *The Handmaid’s Tale*. I like a lot of dystopian/utopian fiction but also any literary fiction that emphasises social commentary and ruminates on social/cultural/political issues. I’m not quite sure how to sum this all up; how to sell the idea of my blog in a neat and succinct way. It’s a focus on socio-political literature, fiction and non-fiction. Is that an easily digestible niche to double down on? \\n\\nAlso, how often should I be posting reviews? I see many say that one post a week can be sufficient, however I don’t think that I would be able to do that. I’m planning on writing roughly 1000-2500 words per book review, including references for my citations and additionally an accompanying reading/watching list. I don’t get as much time as I’d like to read as much nowadays, so I’m not sure I could do one a week. I was thinking maybe doing a review once a month or once every two weeks, with other content each week in-between like shorter book recommendations or essay like posts?\n",
       "223    I find my blog to be pretty fun to write about and the average word count is 600-700. Im able to pump out 2 posts in around 1.5 hrs or so. I have a new blog that im looking to supercharge the growth phase for and I was wondering if anyone has done the same when they began and how it worked for their blog?                                                                                                                                                                                                                                                                                                                                                                                                                                                                                                                                                                                                                                                                                                                                                                                                                                                                                                                                                                                                                                                                                                                                                                                                                                                                                                                                                                           \n",
       "488    I've sped up my blogging over the years, mainly be getting better at outlining and documenting my process, but I'd love to hear what some of you do here.\\n\\nDo you have any tricks that help you get your posts from an idea to a published post in less time?                                                                                                                                                                                                                                                                                                                                                                                                                                                                                                                                                                                                                                                                                                                                                                                                                                                                                                                                                                                                                                                                                                                                                                                                                                                                                                                                                                                                                              \n",
       "267    I don't know if it's a bad idea to not keep the same tone of voice the same in all my articles. \\n\\nFor articles that answer a question, sometimes I'm more serious giving advice while others i say some funny things and take the query \"lightly\".\\n\\nThen this writer i have writes in her own style and sometimes i think my readers will know i didn't write this. She uses some phrases that guys don't tell each other and it's more like a woman's version of how guys think..if that makes sense\\n\\nSo, should it all be the same (either funny, or serious) and tell my writer to write as if it was a guy talking to a guy, or does it not really matter?                                                                                                                                                                                                                                                                                                                                                                                                                                                                                                                                                                                                                                                                                                                                                                                                                                                                                                                                                                                                                         \n",
       "34     Just figured I should share here because my friends really don't get it or have stopped caring to hear about it after weeks.\\n\\nI have a decent twitter following so it has helped a lot but I just wanted to tell someone about it :)                                                                                                                                                                                                                                                                                                                                                                                                                                                                                                                                                                                                                                                                                                                                                                                                                                                                                                                                                                                                                                                                                                                                                                                                                                                                                                                                                                                                                                                       \n",
       "266    My goal is advice from those that worked through these issues.  How did you 'get to the otherside'?\\n\\nMindset:  I own a media business, 4 active sites, goal of many more.  I'm a business owner, not blogging for personal exploration.\\n\\nTIA \\n\\nOk, a confession here.  I am a horrible writer but I appreciate the craft.  I compare it to a musical instument.  I love when someone plays it well, but that doesn't qualify me to play.\\n\\nIn my writing I ~~was~~ am HORRIBLE with passive voice.  Hemingway editor or yoast was crushing me for passive voice seemingly everytime I would write.\\n\\nIt took me longer than I care to admit to figure it out.  Now that I have a better grasp and am employing writers, it drive me crazy to see writers, that are paid, who struggle with it.\\n\\nMay I add, if I see the word 'here' used 6 times again in the paragraph I might just scream...  \\n\"Here you will find a great place to swim, and you should bring the kids here too\"  \\n\\n\\nI know I am opening myself up to critisim.  Yes, you get what you pay for.  I am aware.  Yes, I too suck as a writer.  \\n\\nOne last shot.  Why is it difficult to realize you tend to lean on the same adjective over and over? Or starting each and every sentence with the same preposition??\\n\\nOther than \"Hey you get what you pay for\", anyone else here feel my pain?  \\nInteresting note, two of my writers live in the US, so this is not an issue of non-native speakers.  That is a different challenge.                                                                                                                                                                    \n",
       "164    I just started setting up a blog and I can't seem to get out my about page. I know it sounds silly. It's a personal growth/happiness type blog but, I'm just experienced in life. I'm not a business owner, yoga instructor. I have a diploma in comedy writing with a perspective and opinion...That's about it.                                                                                                                                                                                                                                                                                                                                                                                                                                                                                                                                                                                                                                                                                                                                                                                                                                                                                                                                                                                                                                                                                                                                                                                                                                                                                                                                                                            \n",
       "Name: selftext, dtype: object"
      ]
     },
     "execution_count": 113,
     "metadata": {},
     "output_type": "execute_result"
    }
   ],
   "source": [
    "# Misclassified from Blogging (Original) to Writing (Predicted)\n",
    "df.iloc[nb_index_blogtowrite,:]['selftext'][:7]"
   ]
  },
  {
   "cell_type": "code",
   "execution_count": 114,
   "id": "fbbb16cd",
   "metadata": {},
   "outputs": [
    {
     "data": {
      "text/plain": [
       "Int64Index([204, 423, 396, 559, 58, 465, 47, 341, 418, 1, 4, 383, 219, 244], dtype='int64')"
      ]
     },
     "execution_count": 114,
     "metadata": {},
     "output_type": "execute_result"
    }
   ],
   "source": [
    "nb_index_writetoblog = nb_compare[nb_compare['difference']==-1].index\n",
    "nb_index_writetoblog"
   ]
  },
  {
   "cell_type": "code",
   "execution_count": 115,
   "id": "7a0c5b89",
   "metadata": {},
   "outputs": [
    {
     "data": {
      "text/plain": [
       "204    Hello bloggers,\\n\\nAs you can see in the title, I'm gifting my keyword credits.\\n\\n&amp;#x200B;\\n\\n**Context**\\n\\nMy Keywords Everywhere credits are expiring in a month. And I have thousands of them. And I asked the mods to share some with you.\\n\\nSo, if you want to get keyword ideas keep reading.\\n\\nI will use Keywords Everywhere and KeywordFinder.io in this process to get keywords ideas.\\n\\nI can't promise the number of keywords, volume, and \"quality\". I will use the information you send me and copy the data from these tools. So, this isn't custom keyword research.\\n\\nI want to help as many people as possible, but I can't promise how many of you I can reply to. I estimate to be able to do this for 10-20 people.\\n\\n&amp;#x200B;\\n\\n**Here's what you can do**\\n\\nDM me with:\\n\\n* the topic of the website and be specific. You don't need to share the site name, only the topic. One example is \"drone photography\".\\n* Send 3 to 5 keywords you already have for me to expand the list. Examples, (1) best cameras for drone photography, (2) Difference between X and Y camera, (3) how to improve drone photography.                                                                                                                                                                                                                                                                                                                                                                                                                                                                                                                                                                                                                                                                                                                                                                                                                                                                                                                                                                                                                                                                                                                                                                                                                                                                                                                                                                                                   \n",
       "423    For the past few days, I have been seeing fluctuations in my Google Analytics. I thought that may be because of Google Update. But for the past two days, there is hardly any clicks shown in analytics - from Google and from FB. The ratings have shown a slight drop, but nothing to warrant such an impact. And on Facebook, I can read comments of people about the post, but no click is shown. There are clicks but not all are being reported I feel. No manual action. Can anyone throw any light?                                                                                                                                                                                                                                                                                                                                                                                                                                                                                                                                                                                                                                                                                                                                                                                                                                                                                                                                                                                                                                                                                                                                                                                                                                                                                                                                                                                                                                                                                                                                                                                                                                                                                                                                                                                                                                                                                                                                                                                                                                                    \n",
       "396    I hope it's ok to post these celebratory things, but I got my first email subscriber via my blog, and I am over the moon! The blog is only 2 weeks old, and so far has gotten a total of 9 organic hits according to Google Analytics. I didn't expect to get any emails until months from now, so I am just thrilled! I've got 9 blog posts, and have just been doing my best to do all the SEO tricks I've been learning about. Just wanted to share to celebrate, and give others some idea of what is possible this early in the game. Thank you all for making such a helpful space here on this sub!!                                                                                                                                                                                                                                                                                                                                                                                                                                                                                                                                                                                                                                                                                                                                                                                                                                                                                                                                                                                                                                                                                                                                                                                                                                                                                                                                                                                                                                                                                                                                                                                                                                                                                                                                                                                                                                                                                                                                                    \n",
       "49     I’m relatively young and looking for a job in any writing field (copywriting, proofreading, editing, essay writing, and others I don’t even know about). While I don’t have any college experience, I had straight A’s in all of my English and comp classes in high school and enjoy all aspects of writing. Is there some job (parttime maybe?) I could look for that might hire me?                                                                                                                                                                                                                                                                                                                                                                                                                                                                                                                                                                                                                                                                                                                                                                                                                                                                                                                                                                                                                                                                                                                                                                                                                                                                                                                                                                                                                                                                                                                                                                                                                                                                                                                                                                                                                                                                                                                                                                                                                                                                                                                                                                         \n",
       "58     I see a lot of information surrounding free web hosting and made this write up to point people in the right direction.\\n\\nYes… There are a number of services that provide free web hosting, but I would NOT recommend it to anyone who is planning a serious project.\\n\\nLike many services on the internet that are *free* it is YOU that becomes the product. \\n\\nUnderstand that these free web hosting providers are not providing their services out of the kindness of their hearts. These companies need to and will turn a profit and they will engage in monetization tactics unbeknownst to the user in order to profit.\\n\\nInstead, it's much better to pay for an affordable web hosting service like [Siteground](https://www.reddit.com/r/webdev/comments/sskmfw/siteground_web_hosting_review_honest_thoughts/). That way you know exactly what you're getting upfront and you don't have to rely on the interests of a sketchy 3rd part to sustain your website.\\n\\nAs a general rule of thumb, here are the things you can expect to experience by using a free web hosting service.\\n\\n###Advertisements\\nExpect to see permanent advertisements on your website and in the back-end control panel. Advertisements will appear not only for yourself but all of your users.\\n\\n###Unreliable uptimes/slow web page load times\\nSelf explanatory. If you’re using a free web hosting service, don’t expect to have blazing fast load times. \\n\\n###Lack of privacy.\\nExpect your data to be sold and shared to third parties.\\n\\n###Lack of functionality\\nThe functionality of what you can or cannot do with your website will be limited. For example, it is likely that you will not be able to use your own domain. Your website will probably be structured as a sub domain to the parent company. (IE: *mywebite.freehosting.com*)\\n\\n##The only worthwhile free webhosting\\nThe only form of free web hosting I recommend is Github pages. Github pages allows you to host a simple website using the code stored on your repository.\\n\\nGithub pages is perfect for developers looking to host a simple portfolio website as it does require developer knowledge in order to implement. If you're looking to build a WordPress website however, you cannot run WordPress on Github pages. Instead you'll need to find [WordPress web hosting provider](https://www.reddit.com/r/HostingHostel/comments/t0igc9/best_hosting_for_wordpress_sites_full_guide/).\\n\\n----\\n\\n**TLDR:**  Please stay away from free web hosting providers.\n",
       "465    So I have a decently successful blog where I write about interior design, fashion and lifestyle. These three niches help me cover a lot of topics. However, I now want to create a separate blog dedicated entirely to interior design. But I still want to keep my current blog running and keep positing articles here too. I am not sure how to do that or if it is even possible as I cannot produce content about interior design on two different blogs because I might end up covering the same topics/keywords and not sure how that can work out. Help?                                                                                                                                                                                                                                                                                                                                                                                                                                                                                                                                                                                                                                                                                                                                                                                                                                                                                                                                                                                                                                                                                                                                                                                                                                                                                                                                                                                                                                                                                                                                                                                                                                                                                                                                                                                                                                                                                                                                                                                               \n",
       "47     I have set up a meeting with a prospective client on \\nMonday regarding a ghostwriting job writing regular scripts to later be filmed for a website and YouTube channel.\\n\\nI've been open about my experience as I have only written fiction scripts for my own entertainment. Otherwise my experience is mainly around article writing.\\n\\nI am at a loss as to how I should quote for my work. I'm assuming a 'per word' quote would differ from regular article writing and I wouldn't want to work under a 'per minute' system for the final product.\\n\\nI will also have to be researching new topics each article and creating content to fill a 45-60 minutes slot. But I have had no indication of how script heavy the videos will be.\\n\\nAny thoughts or advice is appreciated.                                                                                                                                                                                                                                                                                                                                                                                                                                                                                                                                                                                                                                                                                                                                                                                                                                                                                                                                                                                                                                                                                                                                                                                                                                                                                                                                                                                                                                                                                                                                                                                                                                                                                                                                                                     \n",
       "341    Has anyone ever started a blog or something similar in a random comment section?  \\nAs in, just a random website with videos that allows for comments, or a website that posts translations of novels that allows comments below each chapter, etc etc. Many such sites have an email notification function for follow up comments. Alternatively, such websites generally have a set schedule for releases, so each blog update could be released on the same schedule.  \\n\\n\\nNow, obviously if someone were to do such a thing, it wouldnt generate them any revenue, and given the context and content posted, it could even be entirely unwelcome, but it still seems like an interesting and hilarious concept......   \\n\\n\\nAnyways, I came here since this just happened to come to mind to pick the communities collective minds to see if this has even been done......  \\n\\n\\n`Thanks for reading my nonsense!`                                                                                                                                                                                                                                                                                                                                                                                                                                                                                                                                                                                                                                                                                                                                                                                                                                                                                                                                                                                                                                                                                                                                                                                                                                                                                                                                                                                                                                                                                                                                                                                                                                     \n",
       "418    Ya so the title basically explains it all. I tried blogging in the past but am not so good at finding exactly what my audience is looking for and doing all the SEO stuff. Basically all the things that make a successful blog successful lol. I'm better at other things so am looking for someone to take over the blogging aspect of the site where we can educate customers on things: \"eco\". does anyone know where I can look for someone to do this or have any connections or friends willing to work with a site like this?                                                                                                                                                                                                                                                                                                                                                                                                                                                                                                                                                                                                                                                                                                                                                                                                                                                                                                                                                                                                                                                                                                                                                                                                                                                                                                                                                                                                                                                                                                                                                                                                                                                                                                                                                                                                                                                                                                                                                                                                                          \n",
       "1      Hello bloggers\\n\\nIf  you're a blogger with simple / generic / one-off / specific / personal  questions, leave them as a comment here and let the community answer  them for you.\\n\\nDo not create a new  individual post if your question falls in any of the above category. Low  quality posts &amp; repetitive questions WILL be deleted without any  notice.\\n\\nSome topics or related posts that fall under the purview of this thread\\n\\n1. Platform (Blogging, hosting, social media, etc) related questions.\\n2. Beginner monetization, niche and technical questions.\\n3. Beginner level affiliate marketing, blog advertising, etc.\\n4. Blog design / code / tech / SEO help.\\n5. Blogging or marketing strategy idea feedback.\\n\\nWhat kind of questions or posts can one create outside this thread?\\n\\nYou  may create posts with questions which spark discussions and debate or  questions for which answers might benefit a majority of the blogging  community as well. Polls, case studies, progress posts, unique guides,  AMAs, intermediate &amp; expert level posts are allowed as well.\\n\\n**Before posting a question, please take the time to use Google or Reddit search**.  9 times out of 10, your question has most likely been answered. So, we  advice you to spend a little time on research before posting.\\n\\nThis thread will be a bi-weekly (14 days) periodical.\\n\\nIf you've any questions about this thread, [message the moderators.](https://www.reddit.com/message/compose?to=%2Fr%2FBlogging)\\n\\n**P.S: Don't use this thread to request blog feedback or to promote your blog. Such comments will be removed without notice.**\\n\\nLink to the previous thread: https://redd.it/su0r2n                                                                                                                                                                                                                                                                                                                                                                                                                                                                                                                                                                                                                                                                                                                                                                                                                             \n",
       "4      My issue is I don't know how to create a page that gets created as under its own tab.                                                                                                                                                                                                                                                                                                                                                                                                                                                                                                                                                                                                                                                                                                                                                                                                                                                                                                                                                                                                                                                                                                                                                                                                                                                                                                                                                                                                                                                                                                                                                                                                                                                                                                                                                                                                                                                                                                                                                                                                                                                                                                                                                                                                                                                                                                                                                                                                                                                                          \n",
       "383    Hello bloggers\\n\\nIf you're a blogger with simple / generic / one-off / specific / personal questions, leave them as a comment here and let the community answer them for you.\\n\\nDo not create a new individual post if your question falls in any of the above category. Low quality posts &amp; repetitive questions WILL be deleted without any notice.\\n\\n####Some topics or related posts that fall under the purview of this thread\\n\\n1. Platform (Blogging, hosting, social media, etc) related questions.\\n2. Beginner monetization, niche and technical questions.\\n3. Beginner level affiliate marketing, blog advertising, etc.\\n4. Blog design / code / tech / SEO help.\\n5. Blogging or marketing strategy idea feedback.\\n\\n####What kind of questions or posts can one create outside this thread?\\n\\nYou may create posts with questions which spark discussions and debate or questions for which answers might benefit a majority of the blogging community as well. Polls, case studies, progress posts, unique guides, AMAs, intermediate &amp; expert level posts are allowed as well.\\n\\n**Before posting a question, please take the time to use Google or Reddit search**. 9 times out of 10, your question has most likely been answered. So, we advice you to spend a little time on research before posting.\\n\\nThis thread will be a bi-weekly (14 days) periodical.\\n\\nIf you've any questions about this thread, [message the moderators.](https://www.reddit.com/message/compose?to=%2Fr%2FBlogging)\\n\\n**P.S: Don't use this thread to request blog feedback or to promote your blog. Such comments will be removed without notice.**\\n\\nLink to the previous thread: https://redd.it/r6flw1                                                                                                                                                                                                                                                                                                                                                                                                                                                                                                                                                                                                                                                                                                                                                                                                                                 \n",
       "219    There are so many social media platforms and I dont know which ones are the best to get traffic from to your site. Which do you guys advice?                                                                                                                                                                                                                                                                                                                                                                                                                                                                                                                                                                                                                                                                                                                                                                                                                                                                                                                                                                                                                                                                                                                                                                                                                                                                                                                                                                                                                                                                                                                                                                                                                                                                                                                                                                                                                                                                                                                                                                                                                                                                                                                                                                                                                                                                                                                                                                                                                   \n",
       "244    Hello everyone,\\n\\nI currently run a blog and I guess you could say \"content creator\" on social media. I love blogging but I am looking for a way to increase my monetization opportunities. One of these ways I am thinking is introducing eCommerce to my blog site and selling products that are within my niche.\\n\\nOne of the main issues that I am running into is that since I am a content creator, I am currently sponsored by a few brands and may be adding more in the near future. What I am worried about is this: if I open an online storefront and am selling products (that might be competitors to my sponsors) could this completely ruin my chances with current and future sponsors? Without giving too much information, my niche is a very specific part of vehicle modifications. Since I am currently building a vehicle based around my blog, is it possible to still possible to get sponsors for just the vehicle and not the blog or should I rule out eCommerce totally?\\n\\nSorry if this may not be the correct place to post! Thank you!                                                                                                                                                                                                                                                                                                                                                                                                                                                                                                                                                                                                                                                                                                                                                                                                                                                                                                                                                                                                                                                                                                                                                                                                                                                                                                                                                                                                                                                                                      \n",
       "Name: selftext, dtype: object"
      ]
     },
     "execution_count": 115,
     "metadata": {},
     "output_type": "execute_result"
    }
   ],
   "source": [
    "# Misclassified from Writing (Original) to Blogging (Predicted)\n",
    "df.iloc[nb_index_writetoblog,:]['selftext']"
   ]
  },
  {
   "cell_type": "markdown",
   "id": "96f93b9f",
   "metadata": {},
   "source": [
    "#### Observations\n",
    "\n",
    "Misclassified posts mainly due to short posts and ambiguous posts (it would be ambiguous after removing stopwords'\n",
    "\n",
    "Other misclassfied posts could be due to users posting in the wrong subreddit groups"
   ]
  },
  {
   "cell_type": "code",
   "execution_count": 118,
   "id": "761ed85f",
   "metadata": {},
   "outputs": [],
   "source": [
    " def confusion(cm):\n",
    "    tn, fp, fn, tp = cm.ravel()\n",
    "    spec = round(tn / (tn + fp),4)\n",
    "    sens = round(tp / (tp + fn),4)\n",
    "    acc = round((tp+tn) / (tp+fn+tn+fp),4)\n",
    "    return spec,sens,acc"
   ]
  },
  {
   "cell_type": "code",
   "execution_count": 119,
   "id": "44355036",
   "metadata": {},
   "outputs": [],
   "source": [
    "cm_lr_array = confusion(cm_lr)\n",
    "cm_nb_array = confusion(cm_nb)"
   ]
  },
  {
   "cell_type": "code",
   "execution_count": 120,
   "id": "c2ed5c85",
   "metadata": {},
   "outputs": [
    {
     "data": {
      "text/plain": [
       "(0.9191, 0.9314, 0.9244)"
      ]
     },
     "execution_count": 120,
     "metadata": {},
     "output_type": "execute_result"
    }
   ],
   "source": [
    "cm_lr_array"
   ]
  },
  {
   "cell_type": "code",
   "execution_count": 121,
   "id": "4f60682d",
   "metadata": {},
   "outputs": [
    {
     "data": {
      "text/plain": [
       "(0.8971, 0.9118, 0.9034)"
      ]
     },
     "execution_count": 121,
     "metadata": {},
     "output_type": "execute_result"
    }
   ],
   "source": [
    "cm_nb_array"
   ]
  },
  {
   "cell_type": "code",
   "execution_count": 122,
   "id": "6c2e6840",
   "metadata": {},
   "outputs": [],
   "source": [
    "cm_df_all = pd.DataFrame(cm_lr_array).T\n",
    "cm_df_all.columns=['Specificity','Sensitivity','Accuracy']\n",
    "cm_df_all.index=['Logistic Regression Model']\n",
    "cm_nb_df = pd.DataFrame(cm_nb_array).T\n",
    "cm_nb_df.columns=['Specificity','Sensitivity','Accuracy']\n",
    "cm_nb_df.index=['Naive-Bayes Regression']"
   ]
  },
  {
   "cell_type": "code",
   "execution_count": 123,
   "id": "7571edc4",
   "metadata": {},
   "outputs": [
    {
     "data": {
      "text/html": [
       "<div>\n",
       "<style scoped>\n",
       "    .dataframe tbody tr th:only-of-type {\n",
       "        vertical-align: middle;\n",
       "    }\n",
       "\n",
       "    .dataframe tbody tr th {\n",
       "        vertical-align: top;\n",
       "    }\n",
       "\n",
       "    .dataframe thead th {\n",
       "        text-align: right;\n",
       "    }\n",
       "</style>\n",
       "<table border=\"1\" class=\"dataframe\">\n",
       "  <thead>\n",
       "    <tr style=\"text-align: right;\">\n",
       "      <th></th>\n",
       "      <th>Specificity</th>\n",
       "      <th>Sensitivity</th>\n",
       "      <th>Accuracy</th>\n",
       "      <th>ROC</th>\n",
       "    </tr>\n",
       "  </thead>\n",
       "  <tbody>\n",
       "    <tr>\n",
       "      <th>Logistic Regression Model</th>\n",
       "      <td>0.9191</td>\n",
       "      <td>0.9314</td>\n",
       "      <td>0.9244</td>\n",
       "      <td>0.971381</td>\n",
       "    </tr>\n",
       "  </tbody>\n",
       "</table>\n",
       "</div>"
      ],
      "text/plain": [
       "                           Specificity  Sensitivity  Accuracy       ROC\n",
       "Logistic Regression Model  0.9191       0.9314       0.9244    0.971381"
      ]
     },
     "execution_count": 123,
     "metadata": {},
     "output_type": "execute_result"
    }
   ],
   "source": [
    "cm_df_all['ROC'] = lr_roc\n",
    "cm_df_all"
   ]
  },
  {
   "cell_type": "code",
   "execution_count": 124,
   "id": "277bb8df",
   "metadata": {},
   "outputs": [
    {
     "data": {
      "text/html": [
       "<div>\n",
       "<style scoped>\n",
       "    .dataframe tbody tr th:only-of-type {\n",
       "        vertical-align: middle;\n",
       "    }\n",
       "\n",
       "    .dataframe tbody tr th {\n",
       "        vertical-align: top;\n",
       "    }\n",
       "\n",
       "    .dataframe thead th {\n",
       "        text-align: right;\n",
       "    }\n",
       "</style>\n",
       "<table border=\"1\" class=\"dataframe\">\n",
       "  <thead>\n",
       "    <tr style=\"text-align: right;\">\n",
       "      <th></th>\n",
       "      <th>Specificity</th>\n",
       "      <th>Sensitivity</th>\n",
       "      <th>Accuracy</th>\n",
       "      <th>ROC</th>\n",
       "    </tr>\n",
       "  </thead>\n",
       "  <tbody>\n",
       "    <tr>\n",
       "      <th>Naive-Bayes Regression</th>\n",
       "      <td>0.8971</td>\n",
       "      <td>0.9118</td>\n",
       "      <td>0.9034</td>\n",
       "      <td>0.971597</td>\n",
       "    </tr>\n",
       "  </tbody>\n",
       "</table>\n",
       "</div>"
      ],
      "text/plain": [
       "                        Specificity  Sensitivity  Accuracy       ROC\n",
       "Naive-Bayes Regression  0.8971       0.9118       0.9034    0.971597"
      ]
     },
     "execution_count": 124,
     "metadata": {},
     "output_type": "execute_result"
    }
   ],
   "source": [
    "cm_nb_df['ROC']=nb_roc\n",
    "cm_nb_df"
   ]
  },
  {
   "cell_type": "markdown",
   "id": "75917c9c",
   "metadata": {},
   "source": [
    "#### Summarizing the Models "
   ]
  },
  {
   "cell_type": "code",
   "execution_count": 125,
   "id": "654f1e41",
   "metadata": {},
   "outputs": [
    {
     "data": {
      "text/html": [
       "<style>\n",
       "table {float:left}\n",
       "</style>\n"
      ],
      "text/plain": [
       "<IPython.core.display.HTML object>"
      ]
     },
     "metadata": {},
     "output_type": "display_data"
    }
   ],
   "source": [
    "%%html\n",
    "<style>\n",
    "table {float:left}\n",
    "</style>"
   ]
  },
  {
   "cell_type": "code",
   "execution_count": 126,
   "id": "f7c8801e",
   "metadata": {},
   "outputs": [
    {
     "data": {
      "text/html": [
       "<div>\n",
       "<style scoped>\n",
       "    .dataframe tbody tr th:only-of-type {\n",
       "        vertical-align: middle;\n",
       "    }\n",
       "\n",
       "    .dataframe tbody tr th {\n",
       "        vertical-align: top;\n",
       "    }\n",
       "\n",
       "    .dataframe thead th {\n",
       "        text-align: right;\n",
       "    }\n",
       "</style>\n",
       "<table border=\"1\" class=\"dataframe\">\n",
       "  <thead>\n",
       "    <tr style=\"text-align: right;\">\n",
       "      <th></th>\n",
       "      <th>Specificity</th>\n",
       "      <th>Sensitivity</th>\n",
       "      <th>Accuracy</th>\n",
       "      <th>ROC</th>\n",
       "    </tr>\n",
       "  </thead>\n",
       "  <tbody>\n",
       "    <tr>\n",
       "      <th>Logistic Regression Model</th>\n",
       "      <td>0.9191</td>\n",
       "      <td>0.9314</td>\n",
       "      <td>0.9244</td>\n",
       "      <td>0.971381</td>\n",
       "    </tr>\n",
       "    <tr>\n",
       "      <th>Naive-Bayes Regression</th>\n",
       "      <td>0.8971</td>\n",
       "      <td>0.9118</td>\n",
       "      <td>0.9034</td>\n",
       "      <td>0.971597</td>\n",
       "    </tr>\n",
       "  </tbody>\n",
       "</table>\n",
       "</div>"
      ],
      "text/plain": [
       "                           Specificity  Sensitivity  Accuracy       ROC\n",
       "Logistic Regression Model  0.9191       0.9314       0.9244    0.971381\n",
       "Naive-Bayes Regression     0.8971       0.9118       0.9034    0.971597"
      ]
     },
     "execution_count": 126,
     "metadata": {},
     "output_type": "execute_result"
    }
   ],
   "source": [
    "cm_df_all.append(cm_nb_df)"
   ]
  },
  {
   "cell_type": "markdown",
   "id": "abfe6943",
   "metadata": {},
   "source": [
    "#### Observation \n",
    "\n",
    "For Logistic Regression and Naive-Bayes model, both models performed largely the same in accuracy.\n",
    "\n",
    "In terms of performance for model predictability, both also performed largely the same, though Logistic Regression has a marginally higher score.\n",
    "\n",
    "Both models are overfitted, but this is due to the nature of our Natural Language Processing experiment.\n",
    "\n",
    "Naives Bayes model is lower than Logistic Regression model for Specificity metric.\n",
    "\n",
    "However, Logistic Regression performed better in terms of Sensitivity metric."
   ]
  },
  {
   "cell_type": "markdown",
   "id": "700d2194",
   "metadata": {},
   "source": [
    "### Random Model testing "
   ]
  },
  {
   "cell_type": "code",
   "execution_count": 127,
   "id": "0a770f9e",
   "metadata": {},
   "outputs": [],
   "source": [
    "str_list = []\n",
    "def test_text(text):\n",
    "    text = str(text)\n",
    "    str_list.append(text)\n",
    "    return str_list"
   ]
  },
  {
   "cell_type": "code",
   "execution_count": 128,
   "id": "1f534923",
   "metadata": {},
   "outputs": [
    {
     "data": {
      "text/plain": [
       "7"
      ]
     },
     "execution_count": 128,
     "metadata": {},
     "output_type": "execute_result"
    }
   ],
   "source": [
    "# Random post from Writing subreddit\n",
    "s1 = \"I am having a very hard time managing my writings lately. No, it's not like I don't know how to show or not to tell; but it is the amount I want to show and not tell.My previous writings were first-person POV like most of the beginners. It is extremely easy to fill all those showing parts describing characters' gestures, thoughts, or even monologues. It was extremely easy to immerse the reader into the plot. Well, it was in my case at least.Now, I am writing a third-person limited POV cause I got fascinated by the writings of George RR Martin. The way he juggled between different characters' perspectives, the shift of attention to the very next character was beautiful and frightening at the same time. For those who do not know what is third-person limited POV, it is the third-person POV but you get to see from the POV of a single character in a scene, which is quite different from omniscient where you get to know all the character and plot at the same time.Back to my problem, I don't know whether I should tell what the character (in light) thinks, or simply show the gestures and dialogues. Should I include any monologues or not, I am even having a hard time making the settings more serious and give it more weight. What should I do?\"\n",
    "test_text(s1)\n",
    "\n",
    "# Random post from Writing subreddit\n",
    "s2 = \"Agh I’ve always struggled with adding description in to my pieces of writing, like I know I need to add them, but I just never seem to write them! Most of my scenes will end up filled with short sentences describing mostly actions and thoughts but nothing else! Does anyone know any tips or advice on how to make sure you’re adding enough description/how to add description Anything would be appreciated!!! :)\"\n",
    "test_text(s2)\n",
    "\n",
    "# Random post from Blogging subreddit\n",
    "s3 = \"I know it is impossible to get rid of copycats, and we all borrow information from someone else's work here and there, so none of us is entirely innocent.But how do you deal with situations in which you spend hours, if not days, to do research, verify the validity of the information you plan to claim/provide, research on keywords, write your articles carefully, do editing, etc. just to find out a few minutes after you post your work that someone else has simply copy-pasted yours to theirs? Some copycats do put in some work by paraphrasing the text to avoid Google's ranking penalties, but even so, having all the information available for you to paraphrase takes a lot less time and effort than doing the work yourself.\"\n",
    "test_text(s3)\n",
    "\n",
    "# Random post from Blogging subreddit\n",
    "s4 = \"Hello, we made it to month two of my second site. I am noticing a bit of traction both in terms of organic impressions as well as a few clicks. I've also been lucky to make a few sales already but that is because of my posting on Reddit within my niche (the group allows links if done correctly)I didn't make any money this month, but I did make 2 sales on the very last day. However, I won't get commission until the item ships so that will be in next month's report. I think it will probably be a couple of dollars.\"\n",
    "test_text(s4)\n",
    "\n",
    "# My test post: It should be classified as blogging.\n",
    "s5 = \"I am currently starting a blog on Cooking, sharing recipes about Korean cuisine with the public. I am very inspired by maangchi and her success. However, I have really bad english and I have trouble writing, and I am afraid that it will tarnish the reputation for my blog. Do you have any tips on how to write better? Do you think writing is important to the success of my blog? How do you think I can better promote and monetise my blog? Thank you.\"\n",
    "test_text(s5)\n",
    "\n",
    "# My test post: Similar as before but modified.\n",
    "s6 = 'Hello everyone, I am currently starting a Blog dedicated to teaching the mass about Korean Cuisine. My main inspiration was from Maangchi. I would like to hear from everyone regarding tips and tricks to promote my blog, and monetise it as well. Currently, my blog has very low traffic (about 2 per day on average). I hope to hear from everyone how you optimise the search engine and promote your blog. Also, I hope to hear from you regarding writing styles. I am a native Korean who is not strong in English. Do you think it will have a negative impact on my blog?'\n",
    "test_text(s6)\n",
    "\n",
    "# Another trial text.\n",
    "s7 = 'Hey all, I am starting a blog to write about marketing technology. May I learn of writing techniques where I will be able to capture the eyes of my audience in seconds? What would be eye catching? I also have issues with starting my content in the body text, and I am unsure how to maximise SEO by crafting my title smartly. Please help, thanks'\n",
    "test_text(s7)\n",
    "len(str_list)"
   ]
  },
  {
   "cell_type": "code",
   "execution_count": 129,
   "id": "0860c476",
   "metadata": {},
   "outputs": [
    {
     "data": {
      "text/plain": [
       "array([0, 0, 0, 1, 0, 1, 1], dtype=int64)"
      ]
     },
     "execution_count": 129,
     "metadata": {},
     "output_type": "execute_result"
    }
   ],
   "source": [
    "test_text_predict_lr = gs_model_lr.predict(str_list)\n",
    "test_text_predict_lr"
   ]
  },
  {
   "cell_type": "code",
   "execution_count": 130,
   "id": "7165d3bc",
   "metadata": {},
   "outputs": [
    {
     "data": {
      "text/plain": [
       "array([0, 0, 1, 1, 0, 1, 1], dtype=int64)"
      ]
     },
     "execution_count": 130,
     "metadata": {},
     "output_type": "execute_result"
    }
   ],
   "source": [
    "test_text_predict_nb = gs_model_nb.predict(str_list)\n",
    "test_text_predict_nb"
   ]
  },
  {
   "cell_type": "code",
   "execution_count": 131,
   "id": "8b047b1e",
   "metadata": {},
   "outputs": [
    {
     "data": {
      "text/html": [
       "<div>\n",
       "<style scoped>\n",
       "    .dataframe tbody tr th:only-of-type {\n",
       "        vertical-align: middle;\n",
       "    }\n",
       "\n",
       "    .dataframe tbody tr th {\n",
       "        vertical-align: top;\n",
       "    }\n",
       "\n",
       "    .dataframe thead th {\n",
       "        text-align: right;\n",
       "    }\n",
       "</style>\n",
       "<table border=\"1\" class=\"dataframe\">\n",
       "  <thead>\n",
       "    <tr style=\"text-align: right;\">\n",
       "      <th></th>\n",
       "      <th>Text</th>\n",
       "      <th>True Label</th>\n",
       "      <th>Predicted Label (LR)</th>\n",
       "      <th>Predicted Label (NB)</th>\n",
       "    </tr>\n",
       "  </thead>\n",
       "  <tbody>\n",
       "    <tr>\n",
       "      <th>0</th>\n",
       "      <td>I am having a very hard time managing my writings lately. No, it's not like I don't know how to show or not to tell; but it is the amount I want to show and not tell.My previous writings were first-person POV like most of the beginners. It is extremely easy to fill all those showing parts describing characters' gestures, thoughts, or even monologues. It was extremely easy to immerse the reader into the plot. Well, it was in my case at least.Now, I am writing a third-person limited POV cause I got fascinated by the writings of George RR Martin. The way he juggled between different characters' perspectives, the shift of attention to the very next character was beautiful and frightening at the same time. For those who do not know what is third-person limited POV, it is the third-person POV but you get to see from the POV of a single character in a scene, which is quite different from omniscient where you get to know all the character and plot at the same time.Back to my problem, I don't know whether I should tell what the character (in light) thinks, or simply show the gestures and dialogues. Should I include any monologues or not, I am even having a hard time making the settings more serious and give it more weight. What should I do?</td>\n",
       "      <td>0</td>\n",
       "      <td>0</td>\n",
       "      <td>0</td>\n",
       "    </tr>\n",
       "    <tr>\n",
       "      <th>1</th>\n",
       "      <td>Agh I’ve always struggled with adding description in to my pieces of writing, like I know I need to add them, but I just never seem to write them! Most of my scenes will end up filled with short sentences describing mostly actions and thoughts but nothing else! Does anyone know any tips or advice on how to make sure you’re adding enough description/how to add description Anything would be appreciated!!! :)</td>\n",
       "      <td>0</td>\n",
       "      <td>0</td>\n",
       "      <td>0</td>\n",
       "    </tr>\n",
       "    <tr>\n",
       "      <th>2</th>\n",
       "      <td>I know it is impossible to get rid of copycats, and we all borrow information from someone else's work here and there, so none of us is entirely innocent.But how do you deal with situations in which you spend hours, if not days, to do research, verify the validity of the information you plan to claim/provide, research on keywords, write your articles carefully, do editing, etc. just to find out a few minutes after you post your work that someone else has simply copy-pasted yours to theirs? Some copycats do put in some work by paraphrasing the text to avoid Google's ranking penalties, but even so, having all the information available for you to paraphrase takes a lot less time and effort than doing the work yourself.</td>\n",
       "      <td>1</td>\n",
       "      <td>0</td>\n",
       "      <td>1</td>\n",
       "    </tr>\n",
       "    <tr>\n",
       "      <th>3</th>\n",
       "      <td>Hello, we made it to month two of my second site. I am noticing a bit of traction both in terms of organic impressions as well as a few clicks. I've also been lucky to make a few sales already but that is because of my posting on Reddit within my niche (the group allows links if done correctly)I didn't make any money this month, but I did make 2 sales on the very last day. However, I won't get commission until the item ships so that will be in next month's report. I think it will probably be a couple of dollars.</td>\n",
       "      <td>1</td>\n",
       "      <td>1</td>\n",
       "      <td>1</td>\n",
       "    </tr>\n",
       "    <tr>\n",
       "      <th>4</th>\n",
       "      <td>I am currently starting a blog on Cooking, sharing recipes about Korean cuisine with the public. I am very inspired by maangchi and her success. However, I have really bad english and I have trouble writing, and I am afraid that it will tarnish the reputation for my blog. Do you have any tips on how to write better? Do you think writing is important to the success of my blog? How do you think I can better promote and monetise my blog? Thank you.</td>\n",
       "      <td>1</td>\n",
       "      <td>0</td>\n",
       "      <td>0</td>\n",
       "    </tr>\n",
       "    <tr>\n",
       "      <th>5</th>\n",
       "      <td>Hello everyone, I am currently starting a Blog dedicated to teaching the mass about Korean Cuisine. My main inspiration was from Maangchi. I would like to hear from everyone regarding tips and tricks to promote my blog, and monetise it as well. Currently, my blog has very low traffic (about 2 per day on average). I hope to hear from everyone how you optimise the search engine and promote your blog. Also, I hope to hear from you regarding writing styles. I am a native Korean who is not strong in English. Do you think it will have a negative impact on my blog?</td>\n",
       "      <td>1</td>\n",
       "      <td>1</td>\n",
       "      <td>1</td>\n",
       "    </tr>\n",
       "    <tr>\n",
       "      <th>6</th>\n",
       "      <td>Hey all, I am starting a blog to write about marketing technology. May I learn of writing techniques where I will be able to capture the eyes of my audience in seconds? What would be eye catching? I also have issues with starting my content in the body text, and I am unsure how to maximise SEO by crafting my title smartly. Please help, thanks</td>\n",
       "      <td>1</td>\n",
       "      <td>1</td>\n",
       "      <td>1</td>\n",
       "    </tr>\n",
       "  </tbody>\n",
       "</table>\n",
       "</div>"
      ],
      "text/plain": [
       "                                                                                                                                                                                                                                                                                                                                                                                                                                                                                                                                                                                                                                                                                                                                                                                                                                                                                                                                                                                                                                                                                                                                                                                                                                                                                                  Text  \\\n",
       "0  I am having a very hard time managing my writings lately. No, it's not like I don't know how to show or not to tell; but it is the amount I want to show and not tell.My previous writings were first-person POV like most of the beginners. It is extremely easy to fill all those showing parts describing characters' gestures, thoughts, or even monologues. It was extremely easy to immerse the reader into the plot. Well, it was in my case at least.Now, I am writing a third-person limited POV cause I got fascinated by the writings of George RR Martin. The way he juggled between different characters' perspectives, the shift of attention to the very next character was beautiful and frightening at the same time. For those who do not know what is third-person limited POV, it is the third-person POV but you get to see from the POV of a single character in a scene, which is quite different from omniscient where you get to know all the character and plot at the same time.Back to my problem, I don't know whether I should tell what the character (in light) thinks, or simply show the gestures and dialogues. Should I include any monologues or not, I am even having a hard time making the settings more serious and give it more weight. What should I do?   \n",
       "1  Agh I’ve always struggled with adding description in to my pieces of writing, like I know I need to add them, but I just never seem to write them! Most of my scenes will end up filled with short sentences describing mostly actions and thoughts but nothing else! Does anyone know any tips or advice on how to make sure you’re adding enough description/how to add description Anything would be appreciated!!! :)                                                                                                                                                                                                                                                                                                                                                                                                                                                                                                                                                                                                                                                                                                                                                                                                                                                                             \n",
       "2  I know it is impossible to get rid of copycats, and we all borrow information from someone else's work here and there, so none of us is entirely innocent.But how do you deal with situations in which you spend hours, if not days, to do research, verify the validity of the information you plan to claim/provide, research on keywords, write your articles carefully, do editing, etc. just to find out a few minutes after you post your work that someone else has simply copy-pasted yours to theirs? Some copycats do put in some work by paraphrasing the text to avoid Google's ranking penalties, but even so, having all the information available for you to paraphrase takes a lot less time and effort than doing the work yourself.                                                                                                                                                                                                                                                                                                                                                                                                                                                                                                                                                 \n",
       "3  Hello, we made it to month two of my second site. I am noticing a bit of traction both in terms of organic impressions as well as a few clicks. I've also been lucky to make a few sales already but that is because of my posting on Reddit within my niche (the group allows links if done correctly)I didn't make any money this month, but I did make 2 sales on the very last day. However, I won't get commission until the item ships so that will be in next month's report. I think it will probably be a couple of dollars.                                                                                                                                                                                                                                                                                                                                                                                                                                                                                                                                                                                                                                                                                                                                                                 \n",
       "4  I am currently starting a blog on Cooking, sharing recipes about Korean cuisine with the public. I am very inspired by maangchi and her success. However, I have really bad english and I have trouble writing, and I am afraid that it will tarnish the reputation for my blog. Do you have any tips on how to write better? Do you think writing is important to the success of my blog? How do you think I can better promote and monetise my blog? Thank you.                                                                                                                                                                                                                                                                                                                                                                                                                                                                                                                                                                                                                                                                                                                                                                                                                                     \n",
       "5  Hello everyone, I am currently starting a Blog dedicated to teaching the mass about Korean Cuisine. My main inspiration was from Maangchi. I would like to hear from everyone regarding tips and tricks to promote my blog, and monetise it as well. Currently, my blog has very low traffic (about 2 per day on average). I hope to hear from everyone how you optimise the search engine and promote your blog. Also, I hope to hear from you regarding writing styles. I am a native Korean who is not strong in English. Do you think it will have a negative impact on my blog?                                                                                                                                                                                                                                                                                                                                                                                                                                                                                                                                                                                                                                                                                                                  \n",
       "6  Hey all, I am starting a blog to write about marketing technology. May I learn of writing techniques where I will be able to capture the eyes of my audience in seconds? What would be eye catching? I also have issues with starting my content in the body text, and I am unsure how to maximise SEO by crafting my title smartly. Please help, thanks                                                                                                                                                                                                                                                                                                                                                                                                                                                                                                                                                                                                                                                                                                                                                                                                                                                                                                                                              \n",
       "\n",
       "   True Label  Predicted Label (LR)  Predicted Label (NB)  \n",
       "0  0           0                     0                     \n",
       "1  0           0                     0                     \n",
       "2  1           0                     1                     \n",
       "3  1           1                     1                     \n",
       "4  1           0                     0                     \n",
       "5  1           1                     1                     \n",
       "6  1           1                     1                     "
      ]
     },
     "execution_count": 131,
     "metadata": {},
     "output_type": "execute_result"
    }
   ],
   "source": [
    "true_label = list([0,0,1,1,1,1,1])\n",
    "pd.DataFrame({'Text' : str_list,\n",
    "              'True Label' : true_label,\n",
    "              'Predicted Label (LR)' : test_text_predict_lr,\n",
    "             'Predicted Label (NB)':test_text_predict_nb }, \n",
    "                                columns=['Text','True Label', 'Predicted Label (LR)','Predicted Label (NB)'])"
   ]
  },
  {
   "cell_type": "markdown",
   "id": "4a97ea49",
   "metadata": {},
   "source": [
    "### Conclusion\n",
    "In conclusion, we are rather indifferent about both the Naive Bayes model or the Logistic Regression model in classifying our subreddit posts.\n",
    "\n",
    "Both models have achieved a similar accuracy scores, despite having differences in other metrics that we have identified.\n",
    "ROC curve also shown that Naive-Bayes and Logistic Regression is largely similar in performance.\n",
    "\n",
    "### Limitations\n",
    "As I could only scrape approximately 500-600 posts per subreddit, I believe our model could be more accurate if we increase the number of posts in our training dataset so that the model can learn more through existing data. This has certainly inhibited part of the success of our model.\n",
    "\n",
    "### Other useful information\n",
    "Overall sentiments for the Writing subreddit tend to be slightly lower than Blogging subreddit. However, both subreddit has a positive sentiment to it.\n",
    "\n",
    "This could be attributed to the level of 'professionalism' displayed in the Blogging subreddit. On the other hand, the Written subreddit appears to be a community where writers post about their struggles and seek help. Hence, this could have pulled down our overall sentiment for Written subreddit."
   ]
  },
  {
   "cell_type": "code",
   "execution_count": null,
   "id": "5c8ef078",
   "metadata": {},
   "outputs": [],
   "source": []
  }
 ],
 "metadata": {
  "kernelspec": {
   "display_name": "Python 3",
   "language": "python",
   "name": "python3"
  },
  "language_info": {
   "codemirror_mode": {
    "name": "ipython",
    "version": 3
   },
   "file_extension": ".py",
   "mimetype": "text/x-python",
   "name": "python",
   "nbconvert_exporter": "python",
   "pygments_lexer": "ipython3",
   "version": "3.8.8"
  }
 },
 "nbformat": 4,
 "nbformat_minor": 5
}
