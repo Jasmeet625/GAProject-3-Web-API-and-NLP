{
 "cells": [
  {
   "cell_type": "markdown",
   "id": "4b09a4f5",
   "metadata": {},
   "source": [
    "## Project 3: Web Scrapping and Classification: Writing and Blogging"
   ]
  },
  {
   "cell_type": "markdown",
   "id": "d17b581b",
   "metadata": {},
   "source": [
    "#### Blogging and Writing subreddit groups are very similar in nature. Both are communities that are focused on writing.\n",
    "\n",
    "However, the size of the communities differ, with 67.7K users in the Blogging subreddit, whereas Writing subreddit has 1.4M users.\n",
    "Based on the following image, we can conclude that the Writing subreddit is far more active than Blogging subreddit, with 1.1k users online at the point of snapshot, and only 96 online for blogging.\n",
    "Lastly, both of these groups were created at around the same period of time, in Q1 2008. \n",
    "What is blogging?\n",
    "A blog (a truncation of \"weblog\") is a discussion or informational website published on the World Wide Web (www) consisting of discrete, often informal diary-style text entries (posts). \n",
    "\n",
    "What is writing?\n",
    "Writing is a medium of human communication that involves the representation of a language with symbols. Writing systems are not themselves human languages (with the debatable exception of computer languages); they are means of rendering a language into a form that can be reconstructed by other humans separated by time and/or space. \n",
    "\n",
    "In other words, a blogger is also a writer, who writes in the internet through weblogs ('blogs'). However, writing is an art itself, which emphasise the communication through languages. A writer could write anywhere (newspapers, books, magazines, emails, blogs etc.)."
   ]
  },
  {
   "cell_type": "markdown",
   "id": "99fc6745",
   "metadata": {},
   "source": [
    "### Business Case\n",
    "\n",
    "As a data scientist, my team works with online influencers and youtubers to improve their views for their posts.\n",
    "\n",
    "A rising trend in the market was for Bloggers to improve their views on their posts through the use of analytics. A subset of this trend is the rise of Reddit as a virtual community for bloggers to ask questions and seek guidance from like-minded individuals.\n",
    "\n",
    "Our team is working on a long-term project targeted to assist bloggers to improve their views on their blog. The first phase of this project would be targeted at the Reddit platform, where bloggers often visit for idea sharing, feedbacks and questions.\n",
    "\n",
    "#### Phase A Part 1: Create a classifying tool to help bloggers to post their questions and experiences in the correct Subreddit group. (Current Project!)\n",
    "#### Phase A Part 2: We will look into Subreddit analytics to understand how to structure a reddit post to maximise views (upvotes, comments)"
   ]
  },
  {
   "cell_type": "markdown",
   "id": "c38fc7b9",
   "metadata": {},
   "source": [
    "### Problem Statement\n",
    "To create a text classifier to determine whether a reddit post would be classified into the Subreddit group \"Blogging\" or \"Writing\"."
   ]
  },
  {
   "cell_type": "markdown",
   "id": "cdb93cbc",
   "metadata": {},
   "source": [
    "### Executive Summary\n",
    "#### EDA\n",
    "\n",
    "From our analysis, the Blogging subreddit group have a huge emphasis on their blog optimisation (common phrases that appear: SEO, traffic flow, keyword search etc.) and less on technical writing elements. However, the Writing subreddit group appears to be the opposite. Posts appear to be focused on writing techniques, with many users posting questions and seeking help for their stories (common phrases that appear: 'writing advice, don know, dont want, help writing, start writing').\n",
    "\n",
    "In terms of overall tonality of the words/phrases that commonly appear in both subreddit groups, we can conclude Blogging subreddit group appears to be more formal and professional, whilst Writing subreddit group appears to be more casual and community-based. This could be due to the fact that Bloggers are more marketing/promotion oriented, whilst writers are more focues on the art of writing.\n",
    "\n",
    "#### Modelling (Classification Model)\n",
    "\n",
    "As seen from the models, both models have performed similarly in predicting whether posts fall under the Writing or Blogging subreddit groups, with an accuracy of approximately 93%.\n",
    "From our Logistic regression, we were able to understand how our Logistic regression classify our posts based on the words appeared.\n",
    "\n",
    "\n",
    "Interestingly, words that are of greater importance in classfiying posts into the Blogging subreddit are: Posts, Content, Website, Niche, Article, Google, SEO, link etc (web-analytics oriented)\n",
    "Whereas words that are of greater importance in classfiying posts into the Writing subreddit are: story, character book, novel, read, writer, plot, feel, chapter etc. (traditional writing-oriented)"
   ]
  },
  {
   "cell_type": "code",
   "execution_count": 1,
   "id": "18005554",
   "metadata": {},
   "outputs": [],
   "source": [
    "# Imports\n",
    "import pandas as pd\n",
    "import numpy as np\n",
    "import seaborn as sns\n",
    "import matplotlib.pyplot as plt\n",
    "\n",
    "# Webscrapping Imports\n",
    "import requests\n",
    "import time\n",
    "import random"
   ]
  },
  {
   "cell_type": "code",
   "execution_count": 2,
   "id": "8e08df26",
   "metadata": {},
   "outputs": [],
   "source": [
    "write = 'https://www.reddit.com/r/writing.json'\n",
    "blog = 'https://www.reddit.com/r/Blogging.json'"
   ]
  },
  {
   "cell_type": "code",
   "execution_count": 3,
   "id": "9e44a1ed",
   "metadata": {},
   "outputs": [],
   "source": [
    "res_w = requests.get(write,headers={'User-agent': 'GAProj3'})\n",
    "res_b = requests.get(blog,headers={'User-agent': 'GAProj3'})"
   ]
  },
  {
   "cell_type": "code",
   "execution_count": 4,
   "id": "4a774616",
   "metadata": {},
   "outputs": [
    {
     "data": {
      "text/plain": [
       "200"
      ]
     },
     "execution_count": 4,
     "metadata": {},
     "output_type": "execute_result"
    }
   ],
   "source": [
    "res_w.status_code"
   ]
  },
  {
   "cell_type": "code",
   "execution_count": 5,
   "id": "af7d34fc",
   "metadata": {},
   "outputs": [
    {
     "data": {
      "text/plain": [
       "200"
      ]
     },
     "execution_count": 5,
     "metadata": {},
     "output_type": "execute_result"
    }
   ],
   "source": [
    "res_b.status_code"
   ]
  },
  {
   "cell_type": "code",
   "execution_count": 6,
   "id": "99821d98",
   "metadata": {},
   "outputs": [],
   "source": [
    "write_dict = res_w.json()\n",
    "blog_dict = res_b.json()"
   ]
  },
  {
   "cell_type": "markdown",
   "id": "22be57ea",
   "metadata": {},
   "source": [
    "### First Round of Scraping (Popular Posts)"
   ]
  },
  {
   "cell_type": "code",
   "execution_count": 13,
   "id": "65ef0eb6",
   "metadata": {},
   "outputs": [
    {
     "name": "stdout",
     "output_type": "stream",
     "text": [
      "https://www.reddit.com/r/writing.json\n",
      "14\n",
      "https://www.reddit.com/r/writing.json?after=t3_taeq1r\n",
      "2\n",
      "https://www.reddit.com/r/writing.json?after=t3_ta00ss\n",
      "8\n",
      "https://www.reddit.com/r/writing.json?after=t3_t9l4rs\n",
      "11\n",
      "https://www.reddit.com/r/writing.json?after=t3_t92eko\n",
      "15\n",
      "https://www.reddit.com/r/writing.json?after=t3_t92t65\n",
      "7\n",
      "https://www.reddit.com/r/writing.json?after=t3_t8rore\n",
      "3\n",
      "https://www.reddit.com/r/writing.json?after=t3_t7w8oq\n",
      "9\n",
      "https://www.reddit.com/r/writing.json?after=t3_t7vv77\n",
      "15\n",
      "https://www.reddit.com/r/writing.json?after=t3_t7l90b\n",
      "6\n",
      "https://www.reddit.com/r/writing.json?after=t3_t6v6c8\n",
      "13\n",
      "https://www.reddit.com/r/writing.json?after=t3_t65i45\n",
      "8\n",
      "https://www.reddit.com/r/writing.json?after=t3_t63ogv\n",
      "2\n",
      "https://www.reddit.com/r/writing.json?after=t3_t5db2n\n",
      "14\n",
      "https://www.reddit.com/r/writing.json?after=t3_t5b5cl\n",
      "15\n",
      "https://www.reddit.com/r/writing.json?after=t3_t4ppko\n",
      "4\n",
      "https://www.reddit.com/r/writing.json?after=t3_t49u3j\n",
      "13\n",
      "https://www.reddit.com/r/writing.json?after=t3_t3ocnd\n",
      "8\n",
      "https://www.reddit.com/r/writing.json?after=t3_t38rkl\n",
      "4\n",
      "https://www.reddit.com/r/writing.json?after=t3_t2i2z8\n",
      "7\n",
      "https://www.reddit.com/r/writing.json?after=t3_t21m44\n",
      "6\n",
      "https://www.reddit.com/r/writing.json?after=t3_t0ykfx\n",
      "4\n",
      "https://www.reddit.com/r/writing.json?after=t3_t0gn1b\n",
      "4\n",
      "https://www.reddit.com/r/writing.json?after=t3_szi763\n",
      "11\n",
      "https://www.reddit.com/r/writing.json?after=t3_sznucr\n",
      "8\n",
      "https://www.reddit.com/r/writing.json?after=t3_syl6iw\n",
      "3\n",
      "https://www.reddit.com/r/writing.json?after=t3_syztcg\n",
      "7\n",
      "https://www.reddit.com/r/writing.json?after=t3_syjbhp\n",
      "14\n",
      "https://www.reddit.com/r/writing.json\n",
      "9\n",
      "https://www.reddit.com/r/writing.json?after=t3_taeq1r\n",
      "15\n"
     ]
    }
   ],
   "source": [
    "posts_w = []\n",
    "after = None\n",
    "\n",
    "for a in range(30):\n",
    "    if after == None:\n",
    "        current_url = write\n",
    "    else:\n",
    "        current_url = write + '?after=' + after\n",
    "    print(current_url)\n",
    "    res_w = requests.get(current_url, headers={'User-agent': 'GAProj3'})\n",
    "    \n",
    "    if res_w.status_code != 200:\n",
    "        print('Status error', res.status_code)\n",
    "        break\n",
    "    \n",
    "    write_dict = res_w.json()\n",
    "    current_posts = [p['data'] for p in write_dict['data']['children']]\n",
    "    posts_w.extend(current_posts)\n",
    "    after = write_dict['data']['after']\n",
    "    \n",
    "    sleep_duration = random.randint(2,15)\n",
    "    print(sleep_duration)\n",
    "    time.sleep(sleep_duration)"
   ]
  },
  {
   "cell_type": "code",
   "execution_count": 14,
   "id": "f1132170",
   "metadata": {},
   "outputs": [
    {
     "name": "stdout",
     "output_type": "stream",
     "text": [
      "https://www.reddit.com/r/Blogging.json\n",
      "3\n",
      "https://www.reddit.com/r/Blogging.json?after=t3_t84glq\n",
      "5\n",
      "https://www.reddit.com/r/Blogging.json?after=t3_t5nre3\n",
      "4\n",
      "https://www.reddit.com/r/Blogging.json?after=t3_t2sp68\n",
      "9\n",
      "https://www.reddit.com/r/Blogging.json?after=t3_sx9g1s\n",
      "5\n",
      "https://www.reddit.com/r/Blogging.json?after=t3_stx2qu\n",
      "4\n",
      "https://www.reddit.com/r/Blogging.json?after=t3_sqerew\n",
      "5\n",
      "https://www.reddit.com/r/Blogging.json?after=t3_smlpc3\n",
      "7\n",
      "https://www.reddit.com/r/Blogging.json?after=t3_sjjout\n",
      "7\n",
      "https://www.reddit.com/r/Blogging.json?after=t3_sghmt6\n",
      "7\n",
      "https://www.reddit.com/r/Blogging.json?after=t3_sapfhe\n",
      "8\n",
      "https://www.reddit.com/r/Blogging.json?after=t3_s4nwx9\n",
      "7\n",
      "https://www.reddit.com/r/Blogging.json?after=t3_rz4hpg\n",
      "6\n",
      "https://www.reddit.com/r/Blogging.json?after=t3_ru9hg9\n",
      "10\n",
      "https://www.reddit.com/r/Blogging.json?after=t3_rqgc5v\n",
      "6\n",
      "https://www.reddit.com/r/Blogging.json?after=t3_rjhqly\n",
      "8\n",
      "https://www.reddit.com/r/Blogging.json?after=t3_re1nwm\n",
      "6\n",
      "https://www.reddit.com/r/Blogging.json?after=t3_r8pbbr\n",
      "5\n",
      "https://www.reddit.com/r/Blogging.json?after=t3_r4zn5l\n",
      "5\n",
      "https://www.reddit.com/r/Blogging.json?after=t3_qxcdyv\n",
      "6\n",
      "https://www.reddit.com/r/Blogging.json?after=t3_qt0lvq\n",
      "6\n",
      "https://www.reddit.com/r/Blogging.json\n",
      "6\n",
      "https://www.reddit.com/r/Blogging.json?after=t3_t84glq\n",
      "6\n",
      "https://www.reddit.com/r/Blogging.json?after=t3_t5nre3\n",
      "7\n",
      "https://www.reddit.com/r/Blogging.json?after=t3_t2sp68\n",
      "10\n",
      "https://www.reddit.com/r/Blogging.json?after=t3_sx9g1s\n",
      "3\n",
      "https://www.reddit.com/r/Blogging.json?after=t3_stx2qu\n",
      "4\n",
      "https://www.reddit.com/r/Blogging.json?after=t3_sqerew\n",
      "7\n",
      "https://www.reddit.com/r/Blogging.json?after=t3_smlpc3\n",
      "2\n",
      "https://www.reddit.com/r/Blogging.json?after=t3_sjjout\n",
      "10\n"
     ]
    }
   ],
   "source": [
    "posts_b = []\n",
    "after = None\n",
    "\n",
    "for a in range(30):\n",
    "    if after == None:\n",
    "        current_url = blog\n",
    "    else:\n",
    "        current_url = blog + '?after=' + after\n",
    "    print(current_url)\n",
    "    res_b = requests.get(current_url, headers={'User-agent': 'GAProj3'})\n",
    "    \n",
    "    if res_b.status_code != 200:\n",
    "        print('Status error', res.status_code)\n",
    "        break\n",
    "    blog_dict = res_b.json()    \n",
    "    current_posts = [p['data'] for p in blog_dict['data']['children']]\n",
    "    posts_b.extend(current_posts)\n",
    "    after = blog_dict['data']['after']\n",
    "    \n",
    "    sleep_duration = random.randint(2,10)\n",
    "    print(sleep_duration)\n",
    "    time.sleep(sleep_duration)"
   ]
  },
  {
   "cell_type": "code",
   "execution_count": 15,
   "id": "58a2fce3",
   "metadata": {},
   "outputs": [
    {
     "name": "stdout",
     "output_type": "stream",
     "text": [
      "https://www.reddit.com/r/writing/new.json\n",
      "12\n",
      "https://www.reddit.com/r/writing/new.json?after=t3_tafjym\n",
      "2\n",
      "https://www.reddit.com/r/writing/new.json?after=t3_ta46d1\n",
      "13\n",
      "https://www.reddit.com/r/writing/new.json?after=t3_t9l4rs\n",
      "15\n",
      "https://www.reddit.com/r/writing/new.json?after=t3_t97t4c\n",
      "5\n",
      "https://www.reddit.com/r/writing/new.json?after=t3_t8y24z\n",
      "14\n",
      "https://www.reddit.com/r/writing/new.json?after=t3_t8kcut\n",
      "8\n",
      "https://www.reddit.com/r/writing/new.json?after=t3_t84dyk\n",
      "11\n",
      "https://www.reddit.com/r/writing/new.json?after=t3_t7m5po\n",
      "2\n",
      "https://www.reddit.com/r/writing/new.json?after=t3_t76iui\n",
      "13\n",
      "https://www.reddit.com/r/writing/new.json?after=t3_t6qdct\n",
      "15\n",
      "https://www.reddit.com/r/writing/new.json?after=t3_t6hg0y\n",
      "6\n",
      "https://www.reddit.com/r/writing/new.json?after=t3_t5zjvw\n",
      "13\n",
      "https://www.reddit.com/r/writing/new.json?after=t3_t5kjku\n",
      "13\n",
      "https://www.reddit.com/r/writing/new.json?after=t3_t537ia\n",
      "13\n"
     ]
    }
   ],
   "source": [
    "posts_w2 = []\n",
    "after = None\n",
    "\n",
    "website_w2 = 'https://www.reddit.com/r/writing/new.json'\n",
    "for a in range(15):\n",
    "    if after == None:\n",
    "        current_url = website_w2\n",
    "    else:\n",
    "        current_url = website_w2 + '?after=' + after\n",
    "    print(current_url)\n",
    "    res_w = requests.get(current_url, headers={'User-agent': 'GAProj3'})\n",
    "    \n",
    "    if res_w.status_code != 200:\n",
    "        print('Status error', res.status_code)\n",
    "        break\n",
    "    \n",
    "    write_dict = res_w.json()\n",
    "    current_posts = [p['data'] for p in write_dict['data']['children']]\n",
    "    posts_w2.extend(current_posts)\n",
    "    after = write_dict['data']['after']\n",
    "    \n",
    "    \n",
    "    \n",
    "    sleep_duration = random.randint(2,15)\n",
    "    print(sleep_duration)\n",
    "    time.sleep(sleep_duration)"
   ]
  },
  {
   "cell_type": "code",
   "execution_count": 16,
   "id": "47b17cef",
   "metadata": {},
   "outputs": [
    {
     "name": "stdout",
     "output_type": "stream",
     "text": [
      "https://www.reddit.com/r/blogging/new.json\n",
      "2\n",
      "https://www.reddit.com/r/blogging/new.json?after=t3_t84z4v\n",
      "13\n",
      "https://www.reddit.com/r/blogging/new.json?after=t3_t5ryyb\n",
      "9\n",
      "https://www.reddit.com/r/blogging/new.json?after=t3_t2tbtl\n",
      "5\n",
      "https://www.reddit.com/r/blogging/new.json?after=t3_sxgovh\n",
      "14\n",
      "https://www.reddit.com/r/blogging/new.json?after=t3_styn02\n",
      "10\n",
      "https://www.reddit.com/r/blogging/new.json?after=t3_sr0g61\n",
      "10\n",
      "https://www.reddit.com/r/blogging/new.json?after=t3_smw24k\n",
      "6\n",
      "https://www.reddit.com/r/blogging/new.json?after=t3_sk278v\n",
      "4\n",
      "https://www.reddit.com/r/blogging/new.json?after=t3_sgvcrf\n",
      "5\n",
      "https://www.reddit.com/r/blogging/new.json?after=t3_sax3jb\n",
      "3\n",
      "https://www.reddit.com/r/blogging/new.json?after=t3_s55i8j\n",
      "11\n",
      "https://www.reddit.com/r/blogging/new.json?after=t3_s0dlyv\n",
      "5\n",
      "https://www.reddit.com/r/blogging/new.json?after=t3_ruc5qu\n",
      "5\n",
      "https://www.reddit.com/r/blogging/new.json?after=t3_rqlbf8\n",
      "15\n"
     ]
    }
   ],
   "source": [
    "posts_b2 = []\n",
    "after = None\n",
    "\n",
    "website_b2 = 'https://www.reddit.com/r/blogging/new.json'\n",
    "for a in range(15):\n",
    "    if after == None:\n",
    "        current_url = website_b2\n",
    "    else:\n",
    "        current_url = website_b2 + '?after=' + after\n",
    "    print(current_url)\n",
    "    res_b = requests.get(current_url, headers={'User-agent': 'GAProj3'})\n",
    "    \n",
    "    if res_b.status_code != 200:\n",
    "        print('Status error', res.status_code)\n",
    "        break\n",
    "    \n",
    "    blog_dict = res_b.json()\n",
    "    current_posts = [p['data'] for p in blog_dict['data']['children']]\n",
    "    posts_b2.extend(current_posts)\n",
    "    after = blog_dict['data']['after']\n",
    "    \n",
    "    \n",
    "    sleep_duration = random.randint(2,15)\n",
    "    print(sleep_duration)\n",
    "    time.sleep(sleep_duration)"
   ]
  },
  {
   "cell_type": "markdown",
   "id": "d85b5d5b",
   "metadata": {},
   "source": [
    "### Merge all "
   ]
  },
  {
   "cell_type": "code",
   "execution_count": 17,
   "id": "cf5b3d8b",
   "metadata": {},
   "outputs": [
    {
     "name": "stdout",
     "output_type": "stream",
     "text": [
      "Scrape 1 Type (Blogging): <class 'list'>\n",
      "Scrape 2 Type (Blogging): <class 'list'>\n",
      "\n",
      "\n",
      "Scrape 1 Type (Writing): <class 'list'>\n",
      "Scrape 2 Type (Writing): <class 'list'>\n"
     ]
    }
   ],
   "source": [
    "print(f'Scrape 1 Type (Blogging): {type(posts_b)}')\n",
    "print(f'Scrape 2 Type (Blogging): {type(posts_b2)}')\n",
    "print('\\n')\n",
    "print(f'Scrape 1 Type (Writing): {type(posts_w)}')\n",
    "print(f'Scrape 2 Type (Writing): {type(posts_w2)}')"
   ]
  },
  {
   "cell_type": "code",
   "execution_count": 18,
   "id": "d397c0d4",
   "metadata": {},
   "outputs": [
    {
     "name": "stdout",
     "output_type": "stream",
     "text": [
      "#Posts for Scrape 1 (Blogging): 737\n",
      "#Posts for Scrape 2 (Blogging): 375\n",
      "\n",
      "\n",
      "#Posts for Scrape 1 (Writing): 739\n",
      "#Posts for Scrape 2 (Writing): 375\n"
     ]
    }
   ],
   "source": [
    "print(f'#Posts for Scrape 1 (Blogging): {len(posts_b)}')\n",
    "print(f'#Posts for Scrape 2 (Blogging): {len(posts_b2)}')\n",
    "print('\\n')\n",
    "print(f'#Posts for Scrape 1 (Writing): {len(posts_w)}')\n",
    "print(f'#Posts for Scrape 2 (Writing): {len(posts_w2)}')"
   ]
  },
  {
   "cell_type": "code",
   "execution_count": 19,
   "id": "0bc6f35d",
   "metadata": {},
   "outputs": [
    {
     "data": {
      "text/plain": [
       "list"
      ]
     },
     "execution_count": 19,
     "metadata": {},
     "output_type": "execute_result"
    }
   ],
   "source": [
    "blogposts = posts_b\n",
    "type(blogposts)"
   ]
  },
  {
   "cell_type": "code",
   "execution_count": 20,
   "id": "981d079a",
   "metadata": {},
   "outputs": [
    {
     "data": {
      "text/plain": [
       "1112"
      ]
     },
     "execution_count": 20,
     "metadata": {},
     "output_type": "execute_result"
    }
   ],
   "source": [
    "posts_b.extend(posts_b2)\n",
    "len(posts_b)"
   ]
  },
  {
   "cell_type": "code",
   "execution_count": 21,
   "id": "35ee741c",
   "metadata": {},
   "outputs": [
    {
     "data": {
      "text/plain": [
       "list"
      ]
     },
     "execution_count": 21,
     "metadata": {},
     "output_type": "execute_result"
    }
   ],
   "source": [
    "writeposts = posts_w\n",
    "type(writeposts)"
   ]
  },
  {
   "cell_type": "code",
   "execution_count": 22,
   "id": "e9a5ed1a",
   "metadata": {},
   "outputs": [
    {
     "data": {
      "text/plain": [
       "1114"
      ]
     },
     "execution_count": 22,
     "metadata": {},
     "output_type": "execute_result"
    }
   ],
   "source": [
    "posts_w.extend(posts_w2)\n",
    "len(posts_w)"
   ]
  },
  {
   "cell_type": "markdown",
   "id": "a7ace5da",
   "metadata": {},
   "source": [
    "### Lets check the Data! "
   ]
  },
  {
   "cell_type": "code",
   "execution_count": 23,
   "id": "76c3de12",
   "metadata": {},
   "outputs": [],
   "source": [
    "blog= pd.DataFrame(posts_b)\n",
    "write= pd.DataFrame(posts_w)"
   ]
  },
  {
   "cell_type": "code",
   "execution_count": 24,
   "id": "7ea16167",
   "metadata": {},
   "outputs": [
    {
     "data": {
      "text/plain": [
       "(1112, 107)"
      ]
     },
     "execution_count": 24,
     "metadata": {},
     "output_type": "execute_result"
    }
   ],
   "source": [
    "blog.shape"
   ]
  },
  {
   "cell_type": "code",
   "execution_count": 25,
   "id": "afae9a77",
   "metadata": {},
   "outputs": [
    {
     "data": {
      "text/plain": [
       "(1114, 114)"
      ]
     },
     "execution_count": 25,
     "metadata": {},
     "output_type": "execute_result"
    }
   ],
   "source": [
    "write.shape"
   ]
  },
  {
   "cell_type": "code",
   "execution_count": 26,
   "id": "340e0bf9",
   "metadata": {},
   "outputs": [
    {
     "data": {
      "text/plain": [
       "428"
      ]
     },
     "execution_count": 26,
     "metadata": {},
     "output_type": "execute_result"
    }
   ],
   "source": [
    "write[['selftext','title']].duplicated().sum()"
   ]
  },
  {
   "cell_type": "code",
   "execution_count": 27,
   "id": "1f70335a",
   "metadata": {},
   "outputs": [
    {
     "data": {
      "text/plain": [
       "602"
      ]
     },
     "execution_count": 27,
     "metadata": {},
     "output_type": "execute_result"
    }
   ],
   "source": [
    "blog[['selftext','title']].duplicated().sum()"
   ]
  },
  {
   "cell_type": "markdown",
   "id": "65b78400",
   "metadata": {},
   "source": [
    "### Initial Observations\n",
    "\n",
    "By the looks of our results from our two rounds of webscrape, we see that there are many duplicated posts across both writing and blogging subreddit. This is perhaps due to combining both New and Hot posts. There should be some posts that are duplicated within the 'New' and 'hot' categories as well."
   ]
  },
  {
   "cell_type": "code",
   "execution_count": 28,
   "id": "fa54ada3",
   "metadata": {},
   "outputs": [],
   "source": [
    "write.drop_duplicates(subset=['selftext','title'],inplace=True)\n",
    "blog.drop_duplicates(subset=['selftext','title'],inplace=True)"
   ]
  },
  {
   "cell_type": "code",
   "execution_count": 29,
   "id": "8109ce48",
   "metadata": {},
   "outputs": [
    {
     "name": "stdout",
     "output_type": "stream",
     "text": [
      "(686, 114)\n",
      "(510, 107)\n"
     ]
    }
   ],
   "source": [
    "print(write.shape)\n",
    "print(blog.shape)"
   ]
  },
  {
   "cell_type": "markdown",
   "id": "9b0f2f5c",
   "metadata": {},
   "source": [
    "### Exporting the Data"
   ]
  },
  {
   "cell_type": "code",
   "execution_count": 71,
   "id": "74767119",
   "metadata": {},
   "outputs": [],
   "source": [
    "blog.to_csv(r\".\\blogging.csv\")"
   ]
  },
  {
   "cell_type": "code",
   "execution_count": 72,
   "id": "d34a97af",
   "metadata": {},
   "outputs": [],
   "source": [
    "write.to_csv(r\".\\write.csv\")"
   ]
  }
 ],
 "metadata": {
  "kernelspec": {
   "display_name": "Python 3",
   "language": "python",
   "name": "python3"
  },
  "language_info": {
   "codemirror_mode": {
    "name": "ipython",
    "version": 3
   },
   "file_extension": ".py",
   "mimetype": "text/x-python",
   "name": "python",
   "nbconvert_exporter": "python",
   "pygments_lexer": "ipython3",
   "version": "3.8.8"
  }
 },
 "nbformat": 4,
 "nbformat_minor": 5
}
